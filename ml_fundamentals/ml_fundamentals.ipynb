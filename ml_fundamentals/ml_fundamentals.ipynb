{
 "cells": [
  {
   "cell_type": "markdown",
   "id": "f8534421",
   "metadata": {},
   "source": [
    "# Linear Regression (ML)"
   ]
  },
  {
   "cell_type": "code",
   "execution_count": 2,
   "id": "4c901d75",
   "metadata": {},
   "outputs": [],
   "source": [
    "from sklearn.linear_model import LinearRegression"
   ]
  },
  {
   "cell_type": "markdown",
   "id": "61a14cf3",
   "metadata": {},
   "source": [
    "* A linear regression is a model between the input x and output y_pred: b0+b1x that minimizes the residuals y_pred-y\n",
    "* A logistic regression is a model called classifier that maps the probability of y belonging to a class via the sigmoid function: P(y=1|X) = 1/(1+exp(-(b0+b1x))"
   ]
  },
  {
   "cell_type": "code",
   "execution_count": 3,
   "id": "300d9e43",
   "metadata": {},
   "outputs": [],
   "source": [
    "import pandas as pd"
   ]
  },
  {
   "cell_type": "code",
   "execution_count": 28,
   "id": "9ec46d65",
   "metadata": {},
   "outputs": [],
   "source": [
    "data = pd.read_csv(\"https://wagon-public-datasets.s3.amazonaws.com/Machine%20Learning%20Datasets/ML_Houses_dataset.csv\")\n"
   ]
  },
  {
   "cell_type": "code",
   "execution_count": 63,
   "id": "e65f5f41",
   "metadata": {},
   "outputs": [
    {
     "data": {
      "text/html": [
       "<div>\n",
       "<style scoped>\n",
       "    .dataframe tbody tr th:only-of-type {\n",
       "        vertical-align: middle;\n",
       "    }\n",
       "\n",
       "    .dataframe tbody tr th {\n",
       "        vertical-align: top;\n",
       "    }\n",
       "\n",
       "    .dataframe thead th {\n",
       "        text-align: right;\n",
       "    }\n",
       "</style>\n",
       "<table border=\"1\" class=\"dataframe\">\n",
       "  <thead>\n",
       "    <tr style=\"text-align: right;\">\n",
       "      <th></th>\n",
       "      <th>Id</th>\n",
       "      <th>MSSubClass</th>\n",
       "      <th>MSZoning</th>\n",
       "      <th>LotFrontage</th>\n",
       "      <th>LotArea</th>\n",
       "      <th>Street</th>\n",
       "      <th>Alley</th>\n",
       "      <th>LotShape</th>\n",
       "      <th>LandContour</th>\n",
       "      <th>Utilities</th>\n",
       "      <th>...</th>\n",
       "      <th>PoolArea</th>\n",
       "      <th>PoolQC</th>\n",
       "      <th>Fence</th>\n",
       "      <th>MiscFeature</th>\n",
       "      <th>MiscVal</th>\n",
       "      <th>MoSold</th>\n",
       "      <th>YrSold</th>\n",
       "      <th>SaleType</th>\n",
       "      <th>SaleCondition</th>\n",
       "      <th>SalePrice</th>\n",
       "    </tr>\n",
       "  </thead>\n",
       "  <tbody>\n",
       "    <tr>\n",
       "      <th>0</th>\n",
       "      <td>1</td>\n",
       "      <td>60</td>\n",
       "      <td>RL</td>\n",
       "      <td>65.0</td>\n",
       "      <td>8450</td>\n",
       "      <td>Pave</td>\n",
       "      <td>NaN</td>\n",
       "      <td>Reg</td>\n",
       "      <td>Lvl</td>\n",
       "      <td>AllPub</td>\n",
       "      <td>...</td>\n",
       "      <td>0</td>\n",
       "      <td>NaN</td>\n",
       "      <td>NaN</td>\n",
       "      <td>NaN</td>\n",
       "      <td>0</td>\n",
       "      <td>2</td>\n",
       "      <td>2008</td>\n",
       "      <td>WD</td>\n",
       "      <td>Normal</td>\n",
       "      <td>208500</td>\n",
       "    </tr>\n",
       "    <tr>\n",
       "      <th>1</th>\n",
       "      <td>2</td>\n",
       "      <td>20</td>\n",
       "      <td>RL</td>\n",
       "      <td>80.0</td>\n",
       "      <td>9600</td>\n",
       "      <td>Pave</td>\n",
       "      <td>NaN</td>\n",
       "      <td>Reg</td>\n",
       "      <td>Lvl</td>\n",
       "      <td>AllPub</td>\n",
       "      <td>...</td>\n",
       "      <td>0</td>\n",
       "      <td>NaN</td>\n",
       "      <td>NaN</td>\n",
       "      <td>NaN</td>\n",
       "      <td>0</td>\n",
       "      <td>5</td>\n",
       "      <td>2007</td>\n",
       "      <td>WD</td>\n",
       "      <td>Normal</td>\n",
       "      <td>181500</td>\n",
       "    </tr>\n",
       "    <tr>\n",
       "      <th>2</th>\n",
       "      <td>3</td>\n",
       "      <td>60</td>\n",
       "      <td>RL</td>\n",
       "      <td>68.0</td>\n",
       "      <td>11250</td>\n",
       "      <td>Pave</td>\n",
       "      <td>NaN</td>\n",
       "      <td>IR1</td>\n",
       "      <td>Lvl</td>\n",
       "      <td>AllPub</td>\n",
       "      <td>...</td>\n",
       "      <td>0</td>\n",
       "      <td>NaN</td>\n",
       "      <td>NaN</td>\n",
       "      <td>NaN</td>\n",
       "      <td>0</td>\n",
       "      <td>9</td>\n",
       "      <td>2008</td>\n",
       "      <td>WD</td>\n",
       "      <td>Normal</td>\n",
       "      <td>223500</td>\n",
       "    </tr>\n",
       "    <tr>\n",
       "      <th>3</th>\n",
       "      <td>4</td>\n",
       "      <td>70</td>\n",
       "      <td>RL</td>\n",
       "      <td>60.0</td>\n",
       "      <td>9550</td>\n",
       "      <td>Pave</td>\n",
       "      <td>NaN</td>\n",
       "      <td>IR1</td>\n",
       "      <td>Lvl</td>\n",
       "      <td>AllPub</td>\n",
       "      <td>...</td>\n",
       "      <td>0</td>\n",
       "      <td>NaN</td>\n",
       "      <td>NaN</td>\n",
       "      <td>NaN</td>\n",
       "      <td>0</td>\n",
       "      <td>2</td>\n",
       "      <td>2006</td>\n",
       "      <td>WD</td>\n",
       "      <td>Abnorml</td>\n",
       "      <td>140000</td>\n",
       "    </tr>\n",
       "    <tr>\n",
       "      <th>4</th>\n",
       "      <td>5</td>\n",
       "      <td>60</td>\n",
       "      <td>RL</td>\n",
       "      <td>84.0</td>\n",
       "      <td>14260</td>\n",
       "      <td>Pave</td>\n",
       "      <td>NaN</td>\n",
       "      <td>IR1</td>\n",
       "      <td>Lvl</td>\n",
       "      <td>AllPub</td>\n",
       "      <td>...</td>\n",
       "      <td>0</td>\n",
       "      <td>NaN</td>\n",
       "      <td>NaN</td>\n",
       "      <td>NaN</td>\n",
       "      <td>0</td>\n",
       "      <td>12</td>\n",
       "      <td>2008</td>\n",
       "      <td>WD</td>\n",
       "      <td>Normal</td>\n",
       "      <td>250000</td>\n",
       "    </tr>\n",
       "  </tbody>\n",
       "</table>\n",
       "<p>5 rows × 85 columns</p>\n",
       "</div>"
      ],
      "text/plain": [
       "   Id  MSSubClass MSZoning  LotFrontage  LotArea Street Alley LotShape  \\\n",
       "0   1          60       RL         65.0     8450   Pave   NaN      Reg   \n",
       "1   2          20       RL         80.0     9600   Pave   NaN      Reg   \n",
       "2   3          60       RL         68.0    11250   Pave   NaN      IR1   \n",
       "3   4          70       RL         60.0     9550   Pave   NaN      IR1   \n",
       "4   5          60       RL         84.0    14260   Pave   NaN      IR1   \n",
       "\n",
       "  LandContour Utilities  ... PoolArea PoolQC Fence MiscFeature MiscVal MoSold  \\\n",
       "0         Lvl    AllPub  ...        0    NaN   NaN         NaN       0      2   \n",
       "1         Lvl    AllPub  ...        0    NaN   NaN         NaN       0      5   \n",
       "2         Lvl    AllPub  ...        0    NaN   NaN         NaN       0      9   \n",
       "3         Lvl    AllPub  ...        0    NaN   NaN         NaN       0      2   \n",
       "4         Lvl    AllPub  ...        0    NaN   NaN         NaN       0     12   \n",
       "\n",
       "  YrSold  SaleType  SaleCondition  SalePrice  \n",
       "0   2008        WD         Normal     208500  \n",
       "1   2007        WD         Normal     181500  \n",
       "2   2008        WD         Normal     223500  \n",
       "3   2006        WD        Abnorml     140000  \n",
       "4   2008        WD         Normal     250000  \n",
       "\n",
       "[5 rows x 85 columns]"
      ]
     },
     "execution_count": 63,
     "metadata": {},
     "output_type": "execute_result"
    }
   ],
   "source": [
    "data.head()"
   ]
  },
  {
   "cell_type": "code",
   "execution_count": 64,
   "id": "9fc56a7f",
   "metadata": {},
   "outputs": [],
   "source": [
    "from sklearn.linear_model import LinearRegression\n",
    "model=LinearRegression()\n",
    "X=data[['GrLivArea']]\n",
    "y=data['SalePrice']"
   ]
  },
  {
   "cell_type": "code",
   "execution_count": 65,
   "id": "c93cd7bb",
   "metadata": {},
   "outputs": [],
   "source": [
    "from sklearn.model_selection import cross_validate\n",
    "cv=cross_validate(model, X,y, cv=5)"
   ]
  },
  {
   "cell_type": "code",
   "execution_count": 66,
   "id": "307b2809",
   "metadata": {},
   "outputs": [
    {
     "data": {
      "text/plain": [
       "{'fit_time': array([0.004107  , 0.00258303, 0.00216699, 0.00309205, 0.002671  ]),\n",
       " 'score_time': array([0.00160789, 0.00156474, 0.00147796, 0.00180578, 0.00131512]),\n",
       " 'test_score': array([0.55810657, 0.52593307, 0.50430916, 0.3911751 , 0.45203221])}"
      ]
     },
     "execution_count": 66,
     "metadata": {},
     "output_type": "execute_result"
    }
   ],
   "source": [
    "cv"
   ]
  },
  {
   "cell_type": "code",
   "execution_count": 67,
   "id": "cb9dce9e",
   "metadata": {},
   "outputs": [
    {
     "data": {
      "text/plain": [
       "0.4863112208425962"
      ]
     },
     "execution_count": 67,
     "metadata": {},
     "output_type": "execute_result"
    }
   ],
   "source": [
    "cv['test_score'].mean()"
   ]
  },
  {
   "cell_type": "code",
   "execution_count": 68,
   "id": "17bb49df",
   "metadata": {},
   "outputs": [],
   "source": [
    "import numpy as np\n",
    "from sklearn.model_selection import learning_curve\n",
    "train_sizes = [25, 50, 100, 200, 400, 500, 700, 1000, 1400]\n",
    "train_sizes, train_scores, test_scores = learning_curve(estimator=LinearRegression(), X=X, y=y, cv=5)"
   ]
  },
  {
   "cell_type": "code",
   "execution_count": 69,
   "id": "f3e21134",
   "metadata": {},
   "outputs": [
    {
     "data": {
      "text/plain": [
       "array([[0.54784593, 0.55020495, 0.55020495, 0.55020495, 0.55020495],\n",
       "       [0.55558853, 0.57391373, 0.56397453, 0.56397453, 0.56397453],\n",
       "       [0.52106737, 0.532773  , 0.5443716 , 0.55276448, 0.55276448],\n",
       "       [0.48220489, 0.48852527, 0.49847127, 0.53390123, 0.5302474 ],\n",
       "       [0.47466455, 0.47853154, 0.48606142, 0.50988016, 0.50081869]])"
      ]
     },
     "execution_count": 69,
     "metadata": {},
     "output_type": "execute_result"
    }
   ],
   "source": [
    "train_scores"
   ]
  },
  {
   "cell_type": "code",
   "execution_count": 70,
   "id": "9f556265",
   "metadata": {},
   "outputs": [],
   "source": [
    "train_score = np.mean(train_scores, axis=1)\n",
    "test_score = np.mean(test_scores, axis=1)"
   ]
  },
  {
   "cell_type": "code",
   "execution_count": 71,
   "id": "b27c3b8b",
   "metadata": {},
   "outputs": [],
   "source": [
    "import matplotlib.pyplot as plt"
   ]
  },
  {
   "cell_type": "code",
   "execution_count": 72,
   "id": "2a283b20",
   "metadata": {},
   "outputs": [
    {
     "data": {
      "text/plain": [
       "<matplotlib.legend.Legend at 0x14f8cbee0>"
      ]
     },
     "execution_count": 72,
     "metadata": {},
     "output_type": "execute_result"
    },
    {
     "data": {
      "image/png": "[encoded data removed]",
      "text/plain": [
       "<Figure size 432x288 with 1 Axes>"
      ]
     },
     "metadata": {
      "needs_background": "light"
     },
     "output_type": "display_data"
    }
   ],
   "source": [
    "plt.plot(train_sizes, train_score, label='training score')\n",
    "plt.plot(train_sizes, test_score, label='validation score')\n",
    "plt.ylabel('r2 score')\n",
    "plt.xlabel('training size')\n",
    "plt.legend()"
   ]
  },
  {
   "cell_type": "markdown",
   "id": "1fb97831",
   "metadata": {},
   "source": [
    "# Data Preparation"
   ]
  },
  {
   "cell_type": "markdown",
   "id": "96bd8a2f",
   "metadata": {},
   "source": [
    "## Detecting outliers"
   ]
  },
  {
   "cell_type": "code",
   "execution_count": 77,
   "id": "dd440ccd",
   "metadata": {},
   "outputs": [
    {
     "data": {
      "text/plain": [
       "<AxesSubplot:>"
      ]
     },
     "execution_count": 77,
     "metadata": {},
     "output_type": "execute_result"
    },
    {
     "data": {
      "image/png": "[encoded data removed]",
      "text/plain": [
       "<Figure size 432x288 with 1 Axes>"
      ]
     },
     "metadata": {
      "needs_background": "light"
     },
     "output_type": "display_data"
    }
   ],
   "source": [
    "data[['GrLivArea']].boxplot()"
   ]
  },
  {
   "cell_type": "code",
   "execution_count": 78,
   "id": "7ce1313e",
   "metadata": {},
   "outputs": [],
   "source": [
    "data = data[(data['GrLivArea']<5000)&(data['GrLivArea']>0)].reset_index(drop=True)"
   ]
  },
  {
   "cell_type": "code",
   "execution_count": 79,
   "id": "1b3bb2a2",
   "metadata": {},
   "outputs": [
    {
     "data": {
      "text/html": [
       "<div>\n",
       "<style scoped>\n",
       "    .dataframe tbody tr th:only-of-type {\n",
       "        vertical-align: middle;\n",
       "    }\n",
       "\n",
       "    .dataframe tbody tr th {\n",
       "        vertical-align: top;\n",
       "    }\n",
       "\n",
       "    .dataframe thead th {\n",
       "        text-align: right;\n",
       "    }\n",
       "</style>\n",
       "<table border=\"1\" class=\"dataframe\">\n",
       "  <thead>\n",
       "    <tr style=\"text-align: right;\">\n",
       "      <th></th>\n",
       "      <th>Id</th>\n",
       "      <th>MSSubClass</th>\n",
       "      <th>MSZoning</th>\n",
       "      <th>LotFrontage</th>\n",
       "      <th>LotArea</th>\n",
       "      <th>Street</th>\n",
       "      <th>Alley</th>\n",
       "      <th>LotShape</th>\n",
       "      <th>LandContour</th>\n",
       "      <th>Utilities</th>\n",
       "      <th>...</th>\n",
       "      <th>PoolArea</th>\n",
       "      <th>PoolQC</th>\n",
       "      <th>Fence</th>\n",
       "      <th>MiscFeature</th>\n",
       "      <th>MiscVal</th>\n",
       "      <th>MoSold</th>\n",
       "      <th>YrSold</th>\n",
       "      <th>SaleType</th>\n",
       "      <th>SaleCondition</th>\n",
       "      <th>SalePrice</th>\n",
       "    </tr>\n",
       "  </thead>\n",
       "  <tbody>\n",
       "    <tr>\n",
       "      <th>0</th>\n",
       "      <td>1</td>\n",
       "      <td>60</td>\n",
       "      <td>RL</td>\n",
       "      <td>65.0</td>\n",
       "      <td>8450</td>\n",
       "      <td>Pave</td>\n",
       "      <td>NaN</td>\n",
       "      <td>Reg</td>\n",
       "      <td>Lvl</td>\n",
       "      <td>AllPub</td>\n",
       "      <td>...</td>\n",
       "      <td>0</td>\n",
       "      <td>NaN</td>\n",
       "      <td>NaN</td>\n",
       "      <td>NaN</td>\n",
       "      <td>0</td>\n",
       "      <td>2</td>\n",
       "      <td>2008</td>\n",
       "      <td>WD</td>\n",
       "      <td>Normal</td>\n",
       "      <td>208500</td>\n",
       "    </tr>\n",
       "    <tr>\n",
       "      <th>1</th>\n",
       "      <td>2</td>\n",
       "      <td>20</td>\n",
       "      <td>RL</td>\n",
       "      <td>80.0</td>\n",
       "      <td>9600</td>\n",
       "      <td>Pave</td>\n",
       "      <td>NaN</td>\n",
       "      <td>Reg</td>\n",
       "      <td>Lvl</td>\n",
       "      <td>AllPub</td>\n",
       "      <td>...</td>\n",
       "      <td>0</td>\n",
       "      <td>NaN</td>\n",
       "      <td>NaN</td>\n",
       "      <td>NaN</td>\n",
       "      <td>0</td>\n",
       "      <td>5</td>\n",
       "      <td>2007</td>\n",
       "      <td>WD</td>\n",
       "      <td>Normal</td>\n",
       "      <td>181500</td>\n",
       "    </tr>\n",
       "    <tr>\n",
       "      <th>2</th>\n",
       "      <td>3</td>\n",
       "      <td>60</td>\n",
       "      <td>RL</td>\n",
       "      <td>68.0</td>\n",
       "      <td>11250</td>\n",
       "      <td>Pave</td>\n",
       "      <td>NaN</td>\n",
       "      <td>IR1</td>\n",
       "      <td>Lvl</td>\n",
       "      <td>AllPub</td>\n",
       "      <td>...</td>\n",
       "      <td>0</td>\n",
       "      <td>NaN</td>\n",
       "      <td>NaN</td>\n",
       "      <td>NaN</td>\n",
       "      <td>0</td>\n",
       "      <td>9</td>\n",
       "      <td>2008</td>\n",
       "      <td>WD</td>\n",
       "      <td>Normal</td>\n",
       "      <td>223500</td>\n",
       "    </tr>\n",
       "    <tr>\n",
       "      <th>3</th>\n",
       "      <td>4</td>\n",
       "      <td>70</td>\n",
       "      <td>RL</td>\n",
       "      <td>60.0</td>\n",
       "      <td>9550</td>\n",
       "      <td>Pave</td>\n",
       "      <td>NaN</td>\n",
       "      <td>IR1</td>\n",
       "      <td>Lvl</td>\n",
       "      <td>AllPub</td>\n",
       "      <td>...</td>\n",
       "      <td>0</td>\n",
       "      <td>NaN</td>\n",
       "      <td>NaN</td>\n",
       "      <td>NaN</td>\n",
       "      <td>0</td>\n",
       "      <td>2</td>\n",
       "      <td>2006</td>\n",
       "      <td>WD</td>\n",
       "      <td>Abnorml</td>\n",
       "      <td>140000</td>\n",
       "    </tr>\n",
       "    <tr>\n",
       "      <th>4</th>\n",
       "      <td>5</td>\n",
       "      <td>60</td>\n",
       "      <td>RL</td>\n",
       "      <td>84.0</td>\n",
       "      <td>14260</td>\n",
       "      <td>Pave</td>\n",
       "      <td>NaN</td>\n",
       "      <td>IR1</td>\n",
       "      <td>Lvl</td>\n",
       "      <td>AllPub</td>\n",
       "      <td>...</td>\n",
       "      <td>0</td>\n",
       "      <td>NaN</td>\n",
       "      <td>NaN</td>\n",
       "      <td>NaN</td>\n",
       "      <td>0</td>\n",
       "      <td>12</td>\n",
       "      <td>2008</td>\n",
       "      <td>WD</td>\n",
       "      <td>Normal</td>\n",
       "      <td>250000</td>\n",
       "    </tr>\n",
       "  </tbody>\n",
       "</table>\n",
       "<p>5 rows × 85 columns</p>\n",
       "</div>"
      ],
      "text/plain": [
       "   Id  MSSubClass MSZoning  LotFrontage  LotArea Street Alley LotShape  \\\n",
       "0   1          60       RL         65.0     8450   Pave   NaN      Reg   \n",
       "1   2          20       RL         80.0     9600   Pave   NaN      Reg   \n",
       "2   3          60       RL         68.0    11250   Pave   NaN      IR1   \n",
       "3   4          70       RL         60.0     9550   Pave   NaN      IR1   \n",
       "4   5          60       RL         84.0    14260   Pave   NaN      IR1   \n",
       "\n",
       "  LandContour Utilities  ... PoolArea PoolQC Fence MiscFeature MiscVal MoSold  \\\n",
       "0         Lvl    AllPub  ...        0    NaN   NaN         NaN       0      2   \n",
       "1         Lvl    AllPub  ...        0    NaN   NaN         NaN       0      5   \n",
       "2         Lvl    AllPub  ...        0    NaN   NaN         NaN       0      9   \n",
       "3         Lvl    AllPub  ...        0    NaN   NaN         NaN       0      2   \n",
       "4         Lvl    AllPub  ...        0    NaN   NaN         NaN       0     12   \n",
       "\n",
       "  YrSold  SaleType  SaleCondition  SalePrice  \n",
       "0   2008        WD         Normal     208500  \n",
       "1   2007        WD         Normal     181500  \n",
       "2   2008        WD         Normal     223500  \n",
       "3   2006        WD        Abnorml     140000  \n",
       "4   2008        WD         Normal     250000  \n",
       "\n",
       "[5 rows x 85 columns]"
      ]
     },
     "execution_count": 79,
     "metadata": {},
     "output_type": "execute_result"
    }
   ],
   "source": [
    "data.head()"
   ]
  },
  {
   "cell_type": "markdown",
   "id": "4c313058",
   "metadata": {},
   "source": [
    "## One Hot Encoding (features)"
   ]
  },
  {
   "cell_type": "code",
   "execution_count": 139,
   "id": "0bf9a716",
   "metadata": {},
   "outputs": [
    {
     "data": {
      "text/html": [
       "<div>\n",
       "<style scoped>\n",
       "    .dataframe tbody tr th:only-of-type {\n",
       "        vertical-align: middle;\n",
       "    }\n",
       "\n",
       "    .dataframe tbody tr th {\n",
       "        vertical-align: top;\n",
       "    }\n",
       "\n",
       "    .dataframe thead th {\n",
       "        text-align: right;\n",
       "    }\n",
       "</style>\n",
       "<table border=\"1\" class=\"dataframe\">\n",
       "  <thead>\n",
       "    <tr style=\"text-align: right;\">\n",
       "      <th></th>\n",
       "      <th>index</th>\n",
       "      <th>Id</th>\n",
       "      <th>MSSubClass</th>\n",
       "      <th>MSZoning</th>\n",
       "      <th>LotFrontage</th>\n",
       "      <th>LotArea</th>\n",
       "      <th>Street</th>\n",
       "      <th>Alley</th>\n",
       "      <th>LotShape</th>\n",
       "      <th>LandContour</th>\n",
       "      <th>...</th>\n",
       "      <th>MiscFeature</th>\n",
       "      <th>MiscVal</th>\n",
       "      <th>MoSold</th>\n",
       "      <th>YrSold</th>\n",
       "      <th>SaleType</th>\n",
       "      <th>SaleCondition</th>\n",
       "      <th>SalePrice</th>\n",
       "      <th>Grvl</th>\n",
       "      <th>NoAlley</th>\n",
       "      <th>Pave</th>\n",
       "    </tr>\n",
       "  </thead>\n",
       "  <tbody>\n",
       "    <tr>\n",
       "      <th>0</th>\n",
       "      <td>0</td>\n",
       "      <td>1</td>\n",
       "      <td>60</td>\n",
       "      <td>RL</td>\n",
       "      <td>65.0</td>\n",
       "      <td>8450</td>\n",
       "      <td>Pave</td>\n",
       "      <td>NoAlley</td>\n",
       "      <td>Reg</td>\n",
       "      <td>Lvl</td>\n",
       "      <td>...</td>\n",
       "      <td>NaN</td>\n",
       "      <td>0</td>\n",
       "      <td>2</td>\n",
       "      <td>2008</td>\n",
       "      <td>WD</td>\n",
       "      <td>Normal</td>\n",
       "      <td>208500</td>\n",
       "      <td>0.0</td>\n",
       "      <td>1.0</td>\n",
       "      <td>0.0</td>\n",
       "    </tr>\n",
       "    <tr>\n",
       "      <th>1</th>\n",
       "      <td>1</td>\n",
       "      <td>2</td>\n",
       "      <td>20</td>\n",
       "      <td>RL</td>\n",
       "      <td>80.0</td>\n",
       "      <td>9600</td>\n",
       "      <td>Pave</td>\n",
       "      <td>NoAlley</td>\n",
       "      <td>Reg</td>\n",
       "      <td>Lvl</td>\n",
       "      <td>...</td>\n",
       "      <td>NaN</td>\n",
       "      <td>0</td>\n",
       "      <td>5</td>\n",
       "      <td>2007</td>\n",
       "      <td>WD</td>\n",
       "      <td>Normal</td>\n",
       "      <td>181500</td>\n",
       "      <td>0.0</td>\n",
       "      <td>1.0</td>\n",
       "      <td>0.0</td>\n",
       "    </tr>\n",
       "    <tr>\n",
       "      <th>2</th>\n",
       "      <td>2</td>\n",
       "      <td>3</td>\n",
       "      <td>60</td>\n",
       "      <td>RL</td>\n",
       "      <td>68.0</td>\n",
       "      <td>11250</td>\n",
       "      <td>Pave</td>\n",
       "      <td>NoAlley</td>\n",
       "      <td>IR1</td>\n",
       "      <td>Lvl</td>\n",
       "      <td>...</td>\n",
       "      <td>NaN</td>\n",
       "      <td>0</td>\n",
       "      <td>9</td>\n",
       "      <td>2008</td>\n",
       "      <td>WD</td>\n",
       "      <td>Normal</td>\n",
       "      <td>223500</td>\n",
       "      <td>0.0</td>\n",
       "      <td>1.0</td>\n",
       "      <td>0.0</td>\n",
       "    </tr>\n",
       "    <tr>\n",
       "      <th>3</th>\n",
       "      <td>3</td>\n",
       "      <td>4</td>\n",
       "      <td>70</td>\n",
       "      <td>RL</td>\n",
       "      <td>60.0</td>\n",
       "      <td>9550</td>\n",
       "      <td>Pave</td>\n",
       "      <td>NoAlley</td>\n",
       "      <td>IR1</td>\n",
       "      <td>Lvl</td>\n",
       "      <td>...</td>\n",
       "      <td>NaN</td>\n",
       "      <td>0</td>\n",
       "      <td>2</td>\n",
       "      <td>2006</td>\n",
       "      <td>WD</td>\n",
       "      <td>Abnorml</td>\n",
       "      <td>140000</td>\n",
       "      <td>0.0</td>\n",
       "      <td>1.0</td>\n",
       "      <td>0.0</td>\n",
       "    </tr>\n",
       "    <tr>\n",
       "      <th>4</th>\n",
       "      <td>4</td>\n",
       "      <td>5</td>\n",
       "      <td>60</td>\n",
       "      <td>RL</td>\n",
       "      <td>84.0</td>\n",
       "      <td>14260</td>\n",
       "      <td>Pave</td>\n",
       "      <td>NoAlley</td>\n",
       "      <td>IR1</td>\n",
       "      <td>Lvl</td>\n",
       "      <td>...</td>\n",
       "      <td>NaN</td>\n",
       "      <td>0</td>\n",
       "      <td>12</td>\n",
       "      <td>2008</td>\n",
       "      <td>WD</td>\n",
       "      <td>Normal</td>\n",
       "      <td>250000</td>\n",
       "      <td>0.0</td>\n",
       "      <td>1.0</td>\n",
       "      <td>0.0</td>\n",
       "    </tr>\n",
       "    <tr>\n",
       "      <th>...</th>\n",
       "      <td>...</td>\n",
       "      <td>...</td>\n",
       "      <td>...</td>\n",
       "      <td>...</td>\n",
       "      <td>...</td>\n",
       "      <td>...</td>\n",
       "      <td>...</td>\n",
       "      <td>...</td>\n",
       "      <td>...</td>\n",
       "      <td>...</td>\n",
       "      <td>...</td>\n",
       "      <td>...</td>\n",
       "      <td>...</td>\n",
       "      <td>...</td>\n",
       "      <td>...</td>\n",
       "      <td>...</td>\n",
       "      <td>...</td>\n",
       "      <td>...</td>\n",
       "      <td>...</td>\n",
       "      <td>...</td>\n",
       "      <td>...</td>\n",
       "    </tr>\n",
       "    <tr>\n",
       "      <th>1453</th>\n",
       "      <td>1453</td>\n",
       "      <td>1456</td>\n",
       "      <td>60</td>\n",
       "      <td>RL</td>\n",
       "      <td>62.0</td>\n",
       "      <td>7917</td>\n",
       "      <td>Pave</td>\n",
       "      <td>NoAlley</td>\n",
       "      <td>Reg</td>\n",
       "      <td>Lvl</td>\n",
       "      <td>...</td>\n",
       "      <td>NaN</td>\n",
       "      <td>0</td>\n",
       "      <td>8</td>\n",
       "      <td>2007</td>\n",
       "      <td>WD</td>\n",
       "      <td>Normal</td>\n",
       "      <td>175000</td>\n",
       "      <td>0.0</td>\n",
       "      <td>1.0</td>\n",
       "      <td>0.0</td>\n",
       "    </tr>\n",
       "    <tr>\n",
       "      <th>1454</th>\n",
       "      <td>1454</td>\n",
       "      <td>1457</td>\n",
       "      <td>20</td>\n",
       "      <td>RL</td>\n",
       "      <td>85.0</td>\n",
       "      <td>13175</td>\n",
       "      <td>Pave</td>\n",
       "      <td>NoAlley</td>\n",
       "      <td>Reg</td>\n",
       "      <td>Lvl</td>\n",
       "      <td>...</td>\n",
       "      <td>NaN</td>\n",
       "      <td>0</td>\n",
       "      <td>2</td>\n",
       "      <td>2010</td>\n",
       "      <td>WD</td>\n",
       "      <td>Normal</td>\n",
       "      <td>210000</td>\n",
       "      <td>0.0</td>\n",
       "      <td>1.0</td>\n",
       "      <td>0.0</td>\n",
       "    </tr>\n",
       "    <tr>\n",
       "      <th>1455</th>\n",
       "      <td>1455</td>\n",
       "      <td>1458</td>\n",
       "      <td>70</td>\n",
       "      <td>RL</td>\n",
       "      <td>66.0</td>\n",
       "      <td>9042</td>\n",
       "      <td>Pave</td>\n",
       "      <td>NoAlley</td>\n",
       "      <td>Reg</td>\n",
       "      <td>Lvl</td>\n",
       "      <td>...</td>\n",
       "      <td>Shed</td>\n",
       "      <td>2500</td>\n",
       "      <td>5</td>\n",
       "      <td>2010</td>\n",
       "      <td>WD</td>\n",
       "      <td>Normal</td>\n",
       "      <td>266500</td>\n",
       "      <td>0.0</td>\n",
       "      <td>1.0</td>\n",
       "      <td>0.0</td>\n",
       "    </tr>\n",
       "    <tr>\n",
       "      <th>1456</th>\n",
       "      <td>1456</td>\n",
       "      <td>1459</td>\n",
       "      <td>20</td>\n",
       "      <td>RL</td>\n",
       "      <td>68.0</td>\n",
       "      <td>9717</td>\n",
       "      <td>Pave</td>\n",
       "      <td>NoAlley</td>\n",
       "      <td>Reg</td>\n",
       "      <td>Lvl</td>\n",
       "      <td>...</td>\n",
       "      <td>NaN</td>\n",
       "      <td>0</td>\n",
       "      <td>4</td>\n",
       "      <td>2010</td>\n",
       "      <td>WD</td>\n",
       "      <td>Normal</td>\n",
       "      <td>142125</td>\n",
       "      <td>0.0</td>\n",
       "      <td>1.0</td>\n",
       "      <td>0.0</td>\n",
       "    </tr>\n",
       "    <tr>\n",
       "      <th>1457</th>\n",
       "      <td>1457</td>\n",
       "      <td>1460</td>\n",
       "      <td>20</td>\n",
       "      <td>RL</td>\n",
       "      <td>75.0</td>\n",
       "      <td>9937</td>\n",
       "      <td>Pave</td>\n",
       "      <td>NoAlley</td>\n",
       "      <td>Reg</td>\n",
       "      <td>Lvl</td>\n",
       "      <td>...</td>\n",
       "      <td>NaN</td>\n",
       "      <td>0</td>\n",
       "      <td>6</td>\n",
       "      <td>2008</td>\n",
       "      <td>WD</td>\n",
       "      <td>Normal</td>\n",
       "      <td>147500</td>\n",
       "      <td>0.0</td>\n",
       "      <td>1.0</td>\n",
       "      <td>0.0</td>\n",
       "    </tr>\n",
       "  </tbody>\n",
       "</table>\n",
       "<p>1458 rows × 88 columns</p>\n",
       "</div>"
      ],
      "text/plain": [
       "      index    Id  MSSubClass MSZoning  LotFrontage  LotArea Street    Alley  \\\n",
       "0         0     1          60       RL         65.0     8450   Pave  NoAlley   \n",
       "1         1     2          20       RL         80.0     9600   Pave  NoAlley   \n",
       "2         2     3          60       RL         68.0    11250   Pave  NoAlley   \n",
       "3         3     4          70       RL         60.0     9550   Pave  NoAlley   \n",
       "4         4     5          60       RL         84.0    14260   Pave  NoAlley   \n",
       "...     ...   ...         ...      ...          ...      ...    ...      ...   \n",
       "1453   1453  1456          60       RL         62.0     7917   Pave  NoAlley   \n",
       "1454   1454  1457          20       RL         85.0    13175   Pave  NoAlley   \n",
       "1455   1455  1458          70       RL         66.0     9042   Pave  NoAlley   \n",
       "1456   1456  1459          20       RL         68.0     9717   Pave  NoAlley   \n",
       "1457   1457  1460          20       RL         75.0     9937   Pave  NoAlley   \n",
       "\n",
       "     LotShape LandContour  ... MiscFeature MiscVal MoSold YrSold SaleType  \\\n",
       "0         Reg         Lvl  ...         NaN       0      2   2008       WD   \n",
       "1         Reg         Lvl  ...         NaN       0      5   2007       WD   \n",
       "2         IR1         Lvl  ...         NaN       0      9   2008       WD   \n",
       "3         IR1         Lvl  ...         NaN       0      2   2006       WD   \n",
       "4         IR1         Lvl  ...         NaN       0     12   2008       WD   \n",
       "...       ...         ...  ...         ...     ...    ...    ...      ...   \n",
       "1453      Reg         Lvl  ...         NaN       0      8   2007       WD   \n",
       "1454      Reg         Lvl  ...         NaN       0      2   2010       WD   \n",
       "1455      Reg         Lvl  ...        Shed    2500      5   2010       WD   \n",
       "1456      Reg         Lvl  ...         NaN       0      4   2010       WD   \n",
       "1457      Reg         Lvl  ...         NaN       0      6   2008       WD   \n",
       "\n",
       "     SaleCondition SalePrice Grvl  NoAlley  Pave  \n",
       "0           Normal    208500  0.0      1.0   0.0  \n",
       "1           Normal    181500  0.0      1.0   0.0  \n",
       "2           Normal    223500  0.0      1.0   0.0  \n",
       "3          Abnorml    140000  0.0      1.0   0.0  \n",
       "4           Normal    250000  0.0      1.0   0.0  \n",
       "...            ...       ...  ...      ...   ...  \n",
       "1453        Normal    175000  0.0      1.0   0.0  \n",
       "1454        Normal    210000  0.0      1.0   0.0  \n",
       "1455        Normal    266500  0.0      1.0   0.0  \n",
       "1456        Normal    142125  0.0      1.0   0.0  \n",
       "1457        Normal    147500  0.0      1.0   0.0  \n",
       "\n",
       "[1458 rows x 88 columns]"
      ]
     },
     "execution_count": 139,
     "metadata": {},
     "output_type": "execute_result"
    }
   ],
   "source": [
    "from sklearn.preprocessing import OneHotEncoder\n",
    "encoder=OneHotEncoder(sparse=False)\n",
    "encoder.fit(data[['Alley']])\n",
    "encoded=encoder.transform(data[['Alley']])\n",
    "data[encoder.categories_[0]]=encoded\n",
    "data"
   ]
  },
  {
   "cell_type": "markdown",
   "id": "a7d8d074",
   "metadata": {},
   "source": [
    "## Drop Duplicates"
   ]
  },
  {
   "cell_type": "code",
   "execution_count": 82,
   "id": "bf6d29a7",
   "metadata": {},
   "outputs": [
    {
     "data": {
      "text/plain": [
       "299"
      ]
     },
     "execution_count": 82,
     "metadata": {},
     "output_type": "execute_result"
    }
   ],
   "source": [
    "data.duplicated().sum()"
   ]
  },
  {
   "cell_type": "code",
   "execution_count": 83,
   "id": "e0b81dca",
   "metadata": {},
   "outputs": [],
   "source": [
    "data.drop_duplicates(inplace=True)"
   ]
  },
  {
   "cell_type": "code",
   "execution_count": 85,
   "id": "26ae6286",
   "metadata": {},
   "outputs": [],
   "source": [
    "data.reset_index(inplace=True)"
   ]
  },
  {
   "cell_type": "markdown",
   "id": "60afd31e",
   "metadata": {},
   "source": [
    "## Handling Null Values"
   ]
  },
  {
   "cell_type": "code",
   "execution_count": 98,
   "id": "81a822e6",
   "metadata": {},
   "outputs": [
    {
     "data": {
      "text/html": [
       "<div>\n",
       "<style scoped>\n",
       "    .dataframe tbody tr th:only-of-type {\n",
       "        vertical-align: middle;\n",
       "    }\n",
       "\n",
       "    .dataframe tbody tr th {\n",
       "        vertical-align: top;\n",
       "    }\n",
       "\n",
       "    .dataframe thead th {\n",
       "        text-align: right;\n",
       "    }\n",
       "</style>\n",
       "<table border=\"1\" class=\"dataframe\">\n",
       "  <thead>\n",
       "    <tr style=\"text-align: right;\">\n",
       "      <th></th>\n",
       "      <th>0</th>\n",
       "    </tr>\n",
       "  </thead>\n",
       "  <tbody>\n",
       "    <tr>\n",
       "      <th>WallMat</th>\n",
       "      <td>0.997</td>\n",
       "    </tr>\n",
       "    <tr>\n",
       "      <th>PoolQC</th>\n",
       "      <td>0.996</td>\n",
       "    </tr>\n",
       "    <tr>\n",
       "      <th>MiscFeature</th>\n",
       "      <td>0.963</td>\n",
       "    </tr>\n",
       "    <tr>\n",
       "      <th>Alley</th>\n",
       "      <td>0.938</td>\n",
       "    </tr>\n",
       "    <tr>\n",
       "      <th>Fence</th>\n",
       "      <td>0.807</td>\n",
       "    </tr>\n",
       "    <tr>\n",
       "      <th>...</th>\n",
       "      <td>...</td>\n",
       "    </tr>\n",
       "    <tr>\n",
       "      <th>ExterQual</th>\n",
       "      <td>0.000</td>\n",
       "    </tr>\n",
       "    <tr>\n",
       "      <th>Exterior2nd</th>\n",
       "      <td>0.000</td>\n",
       "    </tr>\n",
       "    <tr>\n",
       "      <th>Exterior1st</th>\n",
       "      <td>0.000</td>\n",
       "    </tr>\n",
       "    <tr>\n",
       "      <th>RoofMatl</th>\n",
       "      <td>0.000</td>\n",
       "    </tr>\n",
       "    <tr>\n",
       "      <th>SalePrice</th>\n",
       "      <td>0.000</td>\n",
       "    </tr>\n",
       "  </tbody>\n",
       "</table>\n",
       "<p>86 rows × 1 columns</p>\n",
       "</div>"
      ],
      "text/plain": [
       "                 0\n",
       "WallMat      0.997\n",
       "PoolQC       0.996\n",
       "MiscFeature  0.963\n",
       "Alley        0.938\n",
       "Fence        0.807\n",
       "...            ...\n",
       "ExterQual    0.000\n",
       "Exterior2nd  0.000\n",
       "Exterior1st  0.000\n",
       "RoofMatl     0.000\n",
       "SalePrice    0.000\n",
       "\n",
       "[86 rows x 1 columns]"
      ]
     },
     "execution_count": 98,
     "metadata": {},
     "output_type": "execute_result"
    }
   ],
   "source": [
    "df=pd.DataFrame(data=data.isnull().sum().sort_values(ascending=False)/len(data)).round(3)\n",
    "df"
   ]
  },
  {
   "cell_type": "code",
   "execution_count": 100,
   "id": "6a2930e2",
   "metadata": {},
   "outputs": [],
   "source": [
    "data.WallMat.value_counts()\n",
    "data.drop(columns=['WallMat'], inplace=True)"
   ]
  },
  {
   "cell_type": "code",
   "execution_count": 101,
   "id": "1357d68e",
   "metadata": {},
   "outputs": [
    {
     "data": {
      "text/plain": [
       "Grvl    50\n",
       "Pave    41\n",
       "Name: Alley, dtype: int64"
      ]
     },
     "execution_count": 101,
     "metadata": {},
     "output_type": "execute_result"
    }
   ],
   "source": [
    "data.Alley.value_counts()"
   ]
  },
  {
   "cell_type": "code",
   "execution_count": 104,
   "id": "0f9a23af",
   "metadata": {},
   "outputs": [
    {
     "data": {
      "text/plain": [
       "NoAlley    1367\n",
       "Grvl         50\n",
       "Pave         41\n",
       "Name: Alley, dtype: int64"
      ]
     },
     "execution_count": 104,
     "metadata": {},
     "output_type": "execute_result"
    }
   ],
   "source": [
    "import numpy as np\n",
    "data.Alley.replace(np.nan, \"NoAlley\", inplace=True)\n",
    "data.Alley.value_counts()"
   ]
  },
  {
   "cell_type": "markdown",
   "id": "74656ff5",
   "metadata": {},
   "source": [
    "## Impute missing data"
   ]
  },
  {
   "cell_type": "code",
   "execution_count": 107,
   "id": "a7e7dec6",
   "metadata": {},
   "outputs": [
    {
     "data": {
      "text/plain": [
       "<AxesSubplot:>"
      ]
     },
     "execution_count": 107,
     "metadata": {},
     "output_type": "execute_result"
    },
    {
     "data": {
      "image/png": "[encoded data removed]",
      "text/plain": [
       "<Figure size 432x288 with 1 Axes>"
      ]
     },
     "metadata": {
      "needs_background": "light"
     },
     "output_type": "display_data"
    }
   ],
   "source": [
    "data.SalePrice.hist()"
   ]
  },
  {
   "cell_type": "code",
   "execution_count": 109,
   "id": "014bf518",
   "metadata": {},
   "outputs": [
    {
     "data": {
      "text/plain": [
       "10"
      ]
     },
     "execution_count": 109,
     "metadata": {},
     "output_type": "execute_result"
    }
   ],
   "source": [
    "data.Pesos.isnull().sum()"
   ]
  },
  {
   "cell_type": "code",
   "execution_count": 110,
   "id": "70a7598d",
   "metadata": {},
   "outputs": [],
   "source": [
    "data.Pesos.replace(np.nan, data.Pesos.mean(), inplace=True)"
   ]
  },
  {
   "cell_type": "markdown",
   "id": "69230b64",
   "metadata": {},
   "source": [
    "### Simple Imputer"
   ]
  },
  {
   "cell_type": "code",
   "execution_count": 112,
   "id": "0337d80e",
   "metadata": {},
   "outputs": [],
   "source": [
    "from sklearn.impute import SimpleImputer\n",
    "imputer=SimpleImputer(strategy=\"mean\")"
   ]
  },
  {
   "cell_type": "code",
   "execution_count": 113,
   "id": "af535ef3",
   "metadata": {},
   "outputs": [],
   "source": [
    "imputer.fit(data[['Pesos']])\n",
    "data['Pesos'] = imputer.transform(data[['Pesos']])"
   ]
  },
  {
   "cell_type": "markdown",
   "id": "e5d18d69",
   "metadata": {},
   "source": [
    "## Scaling"
   ]
  },
  {
   "cell_type": "code",
   "execution_count": 117,
   "id": "8f2a1c92",
   "metadata": {},
   "outputs": [
    {
     "data": {
      "text/plain": [
       "<AxesSubplot:>"
      ]
     },
     "execution_count": 117,
     "metadata": {},
     "output_type": "execute_result"
    },
    {
     "data": {
      "image/png": "[encoded data removed]",
      "text/plain": [
       "<Figure size 432x288 with 1 Axes>"
      ]
     },
     "metadata": {
      "needs_background": "light"
     },
     "output_type": "display_data"
    }
   ],
   "source": [
    "from sklearn.preprocessing import StandardScaler\n",
    "scaler=StandardScaler()\n",
    "scaler.fit(data[['Pesos']])\n",
    "data['Pesos']=scaler.transform(data[['Pesos']])\n",
    "data['Pesos'].hist()"
   ]
  },
  {
   "cell_type": "markdown",
   "id": "8f4d43c3",
   "metadata": {},
   "source": [
    "## Balacing"
   ]
  },
  {
   "cell_type": "markdown",
   "id": "f1817f54",
   "metadata": {},
   "source": [
    "Smote method is an interpolation of points from the minority class"
   ]
  },
  {
   "cell_type": "markdown",
   "id": "a8377f70",
   "metadata": {},
   "source": [
    "## Feature Selection"
   ]
  },
  {
   "cell_type": "markdown",
   "id": "6a0b2d07",
   "metadata": {},
   "source": [
    "Curse of dimensionality: the complexity of the algo grows exponentially with the number of features"
   ]
  },
  {
   "cell_type": "markdown",
   "id": "ee301edb",
   "metadata": {},
   "source": [
    "## Feature Correlation"
   ]
  },
  {
   "cell_type": "markdown",
   "id": "a7445ff9",
   "metadata": {},
   "source": [
    "Removing highly correlated values increases the performance of the algo"
   ]
  },
  {
   "cell_type": "code",
   "execution_count": 131,
   "id": "991b7111",
   "metadata": {},
   "outputs": [
    {
     "data": {
      "text/plain": [
       "<AxesSubplot:>"
      ]
     },
     "execution_count": 131,
     "metadata": {},
     "output_type": "execute_result"
    },
    {
     "data": {
      "image/png": "[encoded data removed]",
      "text/plain": [
       "<Figure size 432x288 with 2 Axes>"
      ]
     },
     "metadata": {
      "needs_background": "light"
     },
     "output_type": "display_data"
    }
   ],
   "source": [
    "import seaborn as sns\n",
    "\n",
    "corr=data.corr()\n",
    "sns.heatmap(corr)"
   ]
  },
  {
   "cell_type": "code",
   "execution_count": 133,
   "id": "6c9eed70",
   "metadata": {},
   "outputs": [
    {
     "data": {
      "text/html": [
       "<div>\n",
       "<style scoped>\n",
       "    .dataframe tbody tr th:only-of-type {\n",
       "        vertical-align: middle;\n",
       "    }\n",
       "\n",
       "    .dataframe tbody tr th {\n",
       "        vertical-align: top;\n",
       "    }\n",
       "\n",
       "    .dataframe thead th {\n",
       "        text-align: right;\n",
       "    }\n",
       "</style>\n",
       "<table border=\"1\" class=\"dataframe\">\n",
       "  <thead>\n",
       "    <tr style=\"text-align: right;\">\n",
       "      <th></th>\n",
       "      <th>feature1</th>\n",
       "      <th>feature2</th>\n",
       "      <th>corr</th>\n",
       "    </tr>\n",
       "  </thead>\n",
       "  <tbody>\n",
       "    <tr>\n",
       "      <th>1</th>\n",
       "      <td>index</td>\n",
       "      <td>Id</td>\n",
       "      <td>1.000000</td>\n",
       "    </tr>\n",
       "    <tr>\n",
       "      <th>41</th>\n",
       "      <td>Id</td>\n",
       "      <td>index</td>\n",
       "      <td>1.000000</td>\n",
       "    </tr>\n",
       "    <tr>\n",
       "      <th>1650</th>\n",
       "      <td>SalePrice</td>\n",
       "      <td>Pesos</td>\n",
       "      <td>0.990356</td>\n",
       "    </tr>\n",
       "    <tr>\n",
       "      <th>450</th>\n",
       "      <td>Pesos</td>\n",
       "      <td>SalePrice</td>\n",
       "      <td>0.990356</td>\n",
       "    </tr>\n",
       "    <tr>\n",
       "      <th>1219</th>\n",
       "      <td>GarageCars</td>\n",
       "      <td>GarageArea</td>\n",
       "      <td>0.887607</td>\n",
       "    </tr>\n",
       "    <tr>\n",
       "      <th>...</th>\n",
       "      <td>...</td>\n",
       "      <td>...</td>\n",
       "      <td>...</td>\n",
       "    </tr>\n",
       "    <tr>\n",
       "      <th>125</th>\n",
       "      <td>LotFrontage</td>\n",
       "      <td>MSSubClass</td>\n",
       "      <td>-0.404245</td>\n",
       "    </tr>\n",
       "    <tr>\n",
       "      <th>594</th>\n",
       "      <td>BsmtUnfSF</td>\n",
       "      <td>BsmtFullBath</td>\n",
       "      <td>-0.423342</td>\n",
       "    </tr>\n",
       "    <tr>\n",
       "      <th>834</th>\n",
       "      <td>BsmtFullBath</td>\n",
       "      <td>BsmtUnfSF</td>\n",
       "      <td>-0.423342</td>\n",
       "    </tr>\n",
       "    <tr>\n",
       "      <th>586</th>\n",
       "      <td>BsmtUnfSF</td>\n",
       "      <td>BsmtFinSF1</td>\n",
       "      <td>-0.516712</td>\n",
       "    </tr>\n",
       "    <tr>\n",
       "      <th>506</th>\n",
       "      <td>BsmtFinSF1</td>\n",
       "      <td>BsmtUnfSF</td>\n",
       "      <td>-0.516712</td>\n",
       "    </tr>\n",
       "  </tbody>\n",
       "</table>\n",
       "<p>1640 rows × 3 columns</p>\n",
       "</div>"
      ],
      "text/plain": [
       "          feature1      feature2      corr\n",
       "1            index            Id  1.000000\n",
       "41              Id         index  1.000000\n",
       "1650     SalePrice         Pesos  0.990356\n",
       "450          Pesos     SalePrice  0.990356\n",
       "1219    GarageCars    GarageArea  0.887607\n",
       "...            ...           ...       ...\n",
       "125    LotFrontage    MSSubClass -0.404245\n",
       "594      BsmtUnfSF  BsmtFullBath -0.423342\n",
       "834   BsmtFullBath     BsmtUnfSF -0.423342\n",
       "586      BsmtUnfSF    BsmtFinSF1 -0.516712\n",
       "506     BsmtFinSF1     BsmtUnfSF -0.516712\n",
       "\n",
       "[1640 rows x 3 columns]"
      ]
     },
     "execution_count": 133,
     "metadata": {},
     "output_type": "execute_result"
    }
   ],
   "source": [
    "corr_df=corr.unstack().reset_index()\n",
    "corr_df.columns = ['feature1', 'feature2', 'corr']\n",
    "corr_df.sort_values(by='corr', ascending=False, inplace=True)\n",
    "corr_df=corr_df[corr_df['feature1']!=corr_df['feature2']]\n",
    "corr_df"
   ]
  },
  {
   "cell_type": "markdown",
   "id": "14a7bb20",
   "metadata": {},
   "source": [
    "# K Nearest Neighbors"
   ]
  },
  {
   "cell_type": "markdown",
   "id": "e5c6a8de",
   "metadata": {},
   "source": [
    "KNN uses a simple logic: we choose a parameter K, say K=5.\n",
    "\n",
    "Let's assume we have X_new.\n",
    "\n",
    "From there, we look at the K=3 nearest neighbors: X0, X1, X2.\n",
    "\n",
    "If the task is a classification task, we use the voting logic to determine the output.\n",
    "\n",
    "If the task is a regression task, we take the barycenter of $y_1, y_2, y_3$."
   ]
  },
  {
   "cell_type": "markdown",
   "id": "c54a2557",
   "metadata": {},
   "source": [
    "# Baseline Score"
   ]
  },
  {
   "cell_type": "markdown",
   "id": "06e2bcaa",
   "metadata": {},
   "source": [
    "For Regression: a baseline score can be the mean\n",
    "\n",
    "For Classification: a baseline score can be 1/n_labels"
   ]
  },
  {
   "cell_type": "markdown",
   "id": "b4eeeb4f",
   "metadata": {},
   "source": [
    "# Regression metrics"
   ]
  },
  {
   "cell_type": "markdown",
   "id": "271aa21b",
   "metadata": {},
   "source": [
    "## MSE"
   ]
  },
  {
   "cell_type": "markdown",
   "id": "8957541f",
   "metadata": {},
   "source": [
    "L2 distance between y_pred and y\n",
    "\n",
    "Penalises large errors\n",
    "\n",
    "Sensitive to outliers"
   ]
  },
  {
   "cell_type": "markdown",
   "id": "a4482bc7",
   "metadata": {},
   "source": [
    "## MAE"
   ]
  },
  {
   "cell_type": "markdown",
   "id": "8208a643",
   "metadata": {},
   "source": [
    "L1 distance. Less sensitive to outliers"
   ]
  },
  {
   "cell_type": "markdown",
   "id": "3dc037da",
   "metadata": {},
   "source": [
    "## Coefficient of determination R2"
   ]
  },
  {
   "cell_type": "markdown",
   "id": "4e13afcf",
   "metadata": {},
   "source": [
    "Useful to compare different models\n",
    "\n",
    "The ratio of the variance of the dependent variables that is explained by the independent variables"
   ]
  },
  {
   "cell_type": "markdown",
   "id": "557caba8",
   "metadata": {},
   "source": [
    "## Max error"
   ]
  },
  {
   "cell_type": "markdown",
   "id": "395e7391",
   "metadata": {},
   "source": [
    "Biggest error done by the model"
   ]
  },
  {
   "cell_type": "markdown",
   "id": "b8ec1ddc",
   "metadata": {},
   "source": [
    "## Comparing Metrics during CV"
   ]
  },
  {
   "cell_type": "code",
   "execution_count": 186,
   "id": "54dc9122",
   "metadata": {},
   "outputs": [],
   "source": [
    "import pandas as pd\n",
    "data=pd.read_csv('insurance_data.csv')\n",
    "X=data[['age','bmi','children','smoker']]\n",
    "y=data['charges']"
   ]
  },
  {
   "cell_type": "code",
   "execution_count": 151,
   "id": "d9f77341",
   "metadata": {},
   "outputs": [
    {
     "data": {
      "text/plain": [
       "fit_time                        4.133654e-03\n",
       "score_time                      1.989603e-03\n",
       "test_r2                         7.468010e-01\n",
       "test_neg_mean_absolute_error   -4.194523e+03\n",
       "test_neg_mean_squared_error    -3.693034e+07\n",
       "dtype: float64"
      ]
     },
     "execution_count": 151,
     "metadata": {},
     "output_type": "execute_result"
    }
   ],
   "source": [
    "from sklearn.model_selection import cross_validate\n",
    "model=LinearRegression()\n",
    "cv=cross_validate(model, X,y, cv=5, scoring=['r2','neg_mean_absolute_error','neg_mean_squared_error'])\n",
    "cv=pd.DataFrame(cv)\n",
    "cv.mean()"
   ]
  },
  {
   "cell_type": "markdown",
   "id": "c824ddcf",
   "metadata": {},
   "source": [
    "# Classification Metrics"
   ]
  },
  {
   "cell_type": "markdown",
   "id": "dab35fe0",
   "metadata": {},
   "source": [
    "## Confusion Matrix"
   ]
  },
  {
   "cell_type": "markdown",
   "id": "b092d01d",
   "metadata": {},
   "source": [
    "True Positive: predicted positive, truth is positive.    \n",
    "True Negative: predicted negative, truth is negative.  \n",
    "False Positive: predicted positive, truth is negative.  \n",
    "False Negative: predicted negative, truth is positive."
   ]
  },
  {
   "cell_type": "code",
   "execution_count": 159,
   "id": "504a530d",
   "metadata": {},
   "outputs": [
    {
     "data": {
      "text/html": [
       "<div>\n",
       "<style scoped>\n",
       "    .dataframe tbody tr th:only-of-type {\n",
       "        vertical-align: middle;\n",
       "    }\n",
       "\n",
       "    .dataframe tbody tr th {\n",
       "        vertical-align: top;\n",
       "    }\n",
       "\n",
       "    .dataframe thead th {\n",
       "        text-align: right;\n",
       "    }\n",
       "</style>\n",
       "<table border=\"1\" class=\"dataframe\">\n",
       "  <thead>\n",
       "    <tr style=\"text-align: right;\">\n",
       "      <th>predicted</th>\n",
       "      <th>0</th>\n",
       "      <th>1</th>\n",
       "    </tr>\n",
       "    <tr>\n",
       "      <th>actual</th>\n",
       "      <th></th>\n",
       "      <th></th>\n",
       "    </tr>\n",
       "  </thead>\n",
       "  <tbody>\n",
       "    <tr>\n",
       "      <th>0</th>\n",
       "      <td>3</td>\n",
       "      <td>2</td>\n",
       "    </tr>\n",
       "    <tr>\n",
       "      <th>1</th>\n",
       "      <td>1</td>\n",
       "      <td>4</td>\n",
       "    </tr>\n",
       "  </tbody>\n",
       "</table>\n",
       "</div>"
      ],
      "text/plain": [
       "predicted  0  1\n",
       "actual         \n",
       "0          3  2\n",
       "1          1  4"
      ]
     },
     "execution_count": 159,
     "metadata": {},
     "output_type": "execute_result"
    }
   ],
   "source": [
    "y_test = [0, 1, 0, 0, 1, 0, 1, 1, 0, 1] # actual truths\n",
    "preds = [0, 0, 0, 0, 1, 1, 1, 1, 1, 1] # predictions\n",
    "\n",
    "results_df = pd.DataFrame({\"actual\": y_test,\n",
    "                           \"predicted\": preds}) #Store results in a dataframe\n",
    "\n",
    "confusion_matrix = pd.crosstab(index= results_df['actual'],\n",
    "                               columns = results_df['predicted'])\n",
    "\n",
    "confusion_matrix"
   ]
  },
  {
   "cell_type": "markdown",
   "id": "e90ea7c8",
   "metadata": {},
   "source": [
    "## Accuracy"
   ]
  },
  {
   "cell_type": "markdown",
   "id": "6ce6aaf1",
   "metadata": {},
   "source": [
    "Accuracy: how many times did I predicted right  \n",
    "A = (TP+TN)/(TP+TN+FP+FN)"
   ]
  },
  {
   "cell_type": "markdown",
   "id": "b409e533",
   "metadata": {},
   "source": [
    "Accuracy needs to be treated carefully  \n",
    "If I have a very imbalanced dataset (actual negative=90%), and my model predicts only the most frequent class, I will have a high accuracy"
   ]
  },
  {
   "cell_type": "markdown",
   "id": "1b154e70",
   "metadata": {},
   "source": [
    "## Recall"
   ]
  },
  {
   "cell_type": "markdown",
   "id": "fc7ceb3d",
   "metadata": {},
   "source": [
    "R = TP / (TP+FN)  \n",
    "How many positive did I predict among the actual positive.  \n",
    "Am I good in detecting frauds for example. "
   ]
  },
  {
   "cell_type": "markdown",
   "id": "2753d3fd",
   "metadata": {},
   "source": [
    "## Precision"
   ]
  },
  {
   "cell_type": "markdown",
   "id": "f76694c6",
   "metadata": {},
   "source": [
    "P = TP / (TP+FP)  \n",
    "How well my model avoids false alarms  "
   ]
  },
  {
   "cell_type": "markdown",
   "id": "f8d480f6",
   "metadata": {},
   "source": [
    "## F1 Score"
   ]
  },
  {
   "cell_type": "markdown",
   "id": "3bf57815",
   "metadata": {},
   "source": [
    "Harmonic mean of precision and recall  \n",
    "\n",
    "Useful to compare models"
   ]
  },
  {
   "cell_type": "markdown",
   "id": "aade46cd",
   "metadata": {},
   "source": [
    "## Precision Recall Tradeoff \n",
    "https://kitt.lewagon.com/camps/883/lectures/content/05-ML_03-Performance-Metrics.html"
   ]
  },
  {
   "cell_type": "markdown",
   "id": "11fd7af9",
   "metadata": {},
   "source": [
    "# What happens behind .fit"
   ]
  },
  {
   "cell_type": "code",
   "execution_count": 169,
   "id": "9cca0ab3",
   "metadata": {},
   "outputs": [
    {
     "data": {
      "text/html": [
       "<div>\n",
       "<style scoped>\n",
       "    .dataframe tbody tr th:only-of-type {\n",
       "        vertical-align: middle;\n",
       "    }\n",
       "\n",
       "    .dataframe tbody tr th {\n",
       "        vertical-align: top;\n",
       "    }\n",
       "\n",
       "    .dataframe thead th {\n",
       "        text-align: right;\n",
       "    }\n",
       "</style>\n",
       "<table border=\"1\" class=\"dataframe\">\n",
       "  <thead>\n",
       "    <tr style=\"text-align: right;\">\n",
       "      <th></th>\n",
       "      <th>weight</th>\n",
       "      <th>height</th>\n",
       "    </tr>\n",
       "  </thead>\n",
       "  <tbody>\n",
       "    <tr>\n",
       "      <th>0</th>\n",
       "      <td>75</td>\n",
       "      <td>1.78</td>\n",
       "    </tr>\n",
       "    <tr>\n",
       "      <th>1</th>\n",
       "      <td>85</td>\n",
       "      <td>1.86</td>\n",
       "    </tr>\n",
       "    <tr>\n",
       "      <th>2</th>\n",
       "      <td>96</td>\n",
       "      <td>1.99</td>\n",
       "    </tr>\n",
       "  </tbody>\n",
       "</table>\n",
       "</div>"
      ],
      "text/plain": [
       "   weight  height\n",
       "0      75    1.78\n",
       "1      85    1.86\n",
       "2      96    1.99"
      ]
     },
     "execution_count": 169,
     "metadata": {},
     "output_type": "execute_result"
    }
   ],
   "source": [
    "df=pd.DataFrame({'weight': [75, 85, 96], 'height':[1.78, 1.86, 1.99]})\n",
    "df"
   ]
  },
  {
   "cell_type": "code",
   "execution_count": 172,
   "id": "93a1af4f",
   "metadata": {},
   "outputs": [
    {
     "data": {
      "text/plain": [
       "{'fit_intercept': True,\n",
       " 'normalize': False,\n",
       " 'copy_X': True,\n",
       " 'n_jobs': None,\n",
       " 'coef_': array([0.01003021]),\n",
       " '_residues': 0.0002664652567975805,\n",
       " 'rank_': 1,\n",
       " 'singular_': array([14.8548533]),\n",
       " 'intercept_': 1.0207552870090635}"
      ]
     },
     "execution_count": 172,
     "metadata": {},
     "output_type": "execute_result"
    }
   ],
   "source": [
    "model=LinearRegression()\n",
    "X=df[['weight']]\n",
    "y=df['height']\n",
    "model.fit(X,y)\n",
    "model.__dict__"
   ]
  },
  {
   "cell_type": "markdown",
   "id": "0b67b678",
   "metadata": {},
   "source": [
    ".fit optimizes the loss function i.e. minimizes the L2 norm of residuals"
   ]
  },
  {
   "cell_type": "markdown",
   "id": "9baff855",
   "metadata": {},
   "source": [
    "Which method (solver) is used here knowing that the L2 loss function is a parable?"
   ]
  },
  {
   "cell_type": "markdown",
   "id": "005c7de3",
   "metadata": {},
   "source": [
    "# Gradient Descent"
   ]
  },
  {
   "cell_type": "markdown",
   "id": "b4c08026",
   "metadata": {},
   "source": [
    "This is the most basic solver to solve for argmin(beta, Loss_function)  \n",
    "We take beta_0=0 for example and from it we compute the derivative of the Loss Function.  \n",
    "If the derivative is negative, we move to the right of the curve and we recompute beta_0 as beta_0 - * eta * derivative, where eta is called learning rate.  \n",
    "This step is called an Epoch.  \n",
    "We repeat this steps until we approach the minimum given by: derivative = 0.  \n",
    "Two ways of making the algo converge: either we fix a max number of steps or we fix a min step size. If the min step size is reached we stop the algo.  \n",
    "If the learning rate is too big, we might cross the solution back and forth without ever reaching it.  \n",
    "If the learning rate is too small, we might not reach it in time.  "
   ]
  },
  {
   "cell_type": "markdown",
   "id": "06466123",
   "metadata": {},
   "source": [
    "# Mini Batch Gradient Descent"
   ]
  },
  {
   "cell_type": "markdown",
   "id": "d9e376dc",
   "metadata": {},
   "source": [
    "Instead of computing the loss function on the whole dataset, which might be computationally expensive, we choose what we call a batch size or a mini-batch size, for example: batch_size = 16.  \n",
    "When we hear back the value of the derivative, we update beta_0 and move to the next batch.  \n",
    "This method ends up converging with less computation."
   ]
  },
  {
   "cell_type": "markdown",
   "id": "b7261b97",
   "metadata": {},
   "source": [
    "# Stochastic Gradient Descent\n",
    "It is when batch_size=1"
   ]
  },
  {
   "cell_type": "markdown",
   "id": "a840435b",
   "metadata": {},
   "source": [
    "# Comparing SGD vs LinearRegression (SVD)"
   ]
  },
  {
   "cell_type": "code",
   "execution_count": 177,
   "id": "20a3a777",
   "metadata": {},
   "outputs": [],
   "source": [
    "from sklearn.datasets import make_regression\n",
    "\n",
    "# Create a \"fake problem\" to solve\n",
    "X, y = make_regression(n_samples=10000, n_features=1000)"
   ]
  },
  {
   "cell_type": "code",
   "execution_count": 179,
   "id": "9f618b08",
   "metadata": {},
   "outputs": [],
   "source": [
    "from sklearn.linear_model import SGDRegressor, LinearRegression\n",
    "lin_reg = LinearRegression() # OLS solved by matrix inversion (SVD method) -- complexity n^2*p+p^3\n",
    "lin_reg_sgd = SGDRegressor(loss='squared_loss') # OLS solved by SGD"
   ]
  },
  {
   "cell_type": "code",
   "execution_count": 180,
   "id": "d2251d6d",
   "metadata": {},
   "outputs": [
    {
     "name": "stdout",
     "output_type": "stream",
     "text": [
      "CPU times: user 6.54 s, sys: 7.05 s, total: 13.6 s\n",
      "Wall time: 2.65 s\n"
     ]
    },
    {
     "data": {
      "text/plain": [
       "LinearRegression(copy_X=True, fit_intercept=True, n_jobs=None, normalize=False)"
      ]
     },
     "execution_count": 180,
     "metadata": {},
     "output_type": "execute_result"
    }
   ],
   "source": [
    "%%time\n",
    "lin_reg.fit(X,y)"
   ]
  },
  {
   "cell_type": "code",
   "execution_count": 181,
   "id": "c6b034f7",
   "metadata": {},
   "outputs": [
    {
     "name": "stdout",
     "output_type": "stream",
     "text": [
      "CPU times: user 204 ms, sys: 5.04 ms, total: 209 ms\n",
      "Wall time: 213 ms\n"
     ]
    },
    {
     "data": {
      "text/plain": [
       "SGDRegressor(alpha=0.0001, average=False, early_stopping=False, epsilon=0.1,\n",
       "             eta0=0.01, fit_intercept=True, l1_ratio=0.15,\n",
       "             learning_rate='invscaling', loss='squared_loss', max_iter=1000,\n",
       "             n_iter_no_change=5, penalty='l2', power_t=0.25, random_state=None,\n",
       "             shuffle=True, tol=0.001, validation_fraction=0.1, verbose=0,\n",
       "             warm_start=False)"
      ]
     },
     "execution_count": 181,
     "metadata": {},
     "output_type": "execute_result"
    }
   ],
   "source": [
    "%%time\n",
    "lin_reg_sgd.fit(X,y)\n"
   ]
  },
  {
   "cell_type": "markdown",
   "id": "dc6b1a95",
   "metadata": {},
   "source": [
    "# Solvers"
   ]
  },
  {
   "cell_type": "markdown",
   "id": "a1129cd2",
   "metadata": {},
   "source": [
    "## Enhanced Gradient Descent"
   ]
  },
  {
   "cell_type": "markdown",
   "id": "30652147",
   "metadata": {},
   "source": [
    "We can add properties to the quality of the descent.  \n",
    "Adding a momentum or inertia (think of black holes).  \n",
    "Updating the learning rate ('ada': adaptative learning rate).  \n",
    "The combination of both is called adam and is very efficient in practice"
   ]
  },
  {
   "cell_type": "markdown",
   "id": "d2172ef8",
   "metadata": {},
   "source": [
    "## Hessian Method"
   ]
  },
  {
   "cell_type": "markdown",
   "id": "8b09b8c9",
   "metadata": {},
   "source": [
    "This is like adding an order to the slope which is computationally more expensive.  \n",
    "However number of epochs should be smaller."
   ]
  },
  {
   "cell_type": "markdown",
   "id": "5938b2a4",
   "metadata": {},
   "source": [
    "# Overfitting and underfitting\n",
    "Both have high test error.  \n",
    "However, overfitting has a low bias, where underfitting has a high bias."
   ]
  },
  {
   "cell_type": "markdown",
   "id": "976fd25a",
   "metadata": {},
   "source": [
    "# Model Tuning"
   ]
  },
  {
   "cell_type": "markdown",
   "id": "4625ae7b",
   "metadata": {},
   "source": [
    "## Regularization"
   ]
  },
  {
   "cell_type": "markdown",
   "id": "614ac901",
   "metadata": {},
   "source": [
    "Regularization is a method consisting in adding a penalty term to the loss function in order to penalize large values of beta and sometimes forcing some beta_i to shrink. This method is used to avoid overfitting.  \n",
    "The most common are: Ridge (L2 norm): $\\alpha * SumSquared(\\beta_i)$ and Lasso which is the L1 norm of beta_i  \n",
    "There is a new hyperparameter to take into account which is alpha.  \n",
    "The bigger the alpha, the less we listen to the contribution of the variables, the less overfitted is the model.  \n",
    "Adding a penalty is a way of combatting overfitting !  "
   ]
  },
  {
   "cell_type": "markdown",
   "id": "2e3d81b0",
   "metadata": {},
   "source": [
    "## Comparing Ridge vs Lasso"
   ]
  },
  {
   "cell_type": "code",
   "execution_count": 194,
   "id": "5f48bf22",
   "metadata": {},
   "outputs": [],
   "source": [
    "import pandas as pd\n",
    "data=pd.read_csv('insurance_data.csv')\n",
    "X=data[['age','bmi','children','smoker']]\n",
    "y=data['charges']\n",
    "\n",
    "from sklearn.preprocessing import MinMaxScaler\n",
    "scaler=MinMaxScaler()\n",
    "scaler.fit(X)\n",
    "X_scaled=scaler.transform(X)"
   ]
  },
  {
   "cell_type": "code",
   "execution_count": 199,
   "id": "5bed10de",
   "metadata": {},
   "outputs": [
    {
     "data": {
      "text/html": [
       "<div>\n",
       "<style scoped>\n",
       "    .dataframe tbody tr th:only-of-type {\n",
       "        vertical-align: middle;\n",
       "    }\n",
       "\n",
       "    .dataframe tbody tr th {\n",
       "        vertical-align: top;\n",
       "    }\n",
       "\n",
       "    .dataframe thead th {\n",
       "        text-align: right;\n",
       "    }\n",
       "</style>\n",
       "<table border=\"1\" class=\"dataframe\">\n",
       "  <thead>\n",
       "    <tr style=\"text-align: right;\">\n",
       "      <th></th>\n",
       "      <th>coefs_linreg</th>\n",
       "      <th>coefs_lasso</th>\n",
       "      <th>coefs_ridge</th>\n",
       "    </tr>\n",
       "  </thead>\n",
       "  <tbody>\n",
       "    <tr>\n",
       "      <th>age</th>\n",
       "      <td>11842.070388</td>\n",
       "      <td>1706.876339</td>\n",
       "      <td>1325.968155</td>\n",
       "    </tr>\n",
       "    <tr>\n",
       "      <th>bmi</th>\n",
       "      <td>11997.212659</td>\n",
       "      <td>0.000000</td>\n",
       "      <td>504.982804</td>\n",
       "    </tr>\n",
       "    <tr>\n",
       "      <th>children</th>\n",
       "      <td>2351.356707</td>\n",
       "      <td>0.000000</td>\n",
       "      <td>236.868200</td>\n",
       "    </tr>\n",
       "    <tr>\n",
       "      <th>smoker</th>\n",
       "      <td>23788.125110</td>\n",
       "      <td>17507.542736</td>\n",
       "      <td>4229.055765</td>\n",
       "    </tr>\n",
       "  </tbody>\n",
       "</table>\n",
       "</div>"
      ],
      "text/plain": [
       "          coefs_linreg   coefs_lasso  coefs_ridge\n",
       "age       11842.070388   1706.876339  1325.968155\n",
       "bmi       11997.212659      0.000000   504.982804\n",
       "children   2351.356707      0.000000   236.868200\n",
       "smoker    23788.125110  17507.542736  4229.055765"
      ]
     },
     "execution_count": 199,
     "metadata": {},
     "output_type": "execute_result"
    }
   ],
   "source": [
    "from sklearn.linear_model import LinearRegression, Ridge, Lasso\n",
    "linreg=LinearRegression()\n",
    "lasso=Lasso(alpha=1000)\n",
    "ridge=Ridge(alpha=1000)\n",
    "\n",
    "linreg.fit(X_scaled,y)\n",
    "lasso.fit(X_scaled,y)\n",
    "ridge.fit(X_scaled,y)\n",
    "\n",
    "coefs=pd.DataFrame({\n",
    "    'coefs_linreg': pd.Series(linreg.coef_, index=X.columns),\n",
    "    'coefs_lasso': pd.Series(lasso.coef_, index=X.columns),\n",
    "    'coefs_ridge': pd.Series(ridge.coef_, index=X.columns)\n",
    "})\n",
    "\n",
    "coefs"
   ]
  },
  {
   "cell_type": "markdown",
   "id": "541afcb7",
   "metadata": {},
   "source": [
    "Increasing alpha in Lasso will shrink coeffs to 0  \n",
    "Increasing alpha in Ridge will shrink coeffs towards 0"
   ]
  },
  {
   "cell_type": "markdown",
   "id": "f80cbf21",
   "metadata": {},
   "source": [
    "ElasticNet is a combination of both Lasso and Ridge: $\\lambda L1 + (1-\\lambda) L2$  \n",
    "Therefore there are two hyperparamets to fine-tune: $\\beta$ and $\\lambda$"
   ]
  },
  {
   "cell_type": "markdown",
   "id": "8a5e88fa",
   "metadata": {},
   "source": [
    "***************************\n",
    "<b>Regularization tends to penalize features that are not statistically significant</b>\n",
    "***************************"
   ]
  },
  {
   "cell_type": "markdown",
   "id": "3871a47d",
   "metadata": {},
   "source": [
    "## Fine-tuning using Grid Search"
   ]
  },
  {
   "cell_type": "markdown",
   "id": "b5d33c82",
   "metadata": {},
   "source": [
    "Well, let's make sure first of all that we hold out a test set before computing cross val scores.  \n",
    "Grid Search consists of trying out a combination of possible hyper-parameters before choosing the best one.  "
   ]
  },
  {
   "cell_type": "code",
   "execution_count": 200,
   "id": "ca8c60d1",
   "metadata": {},
   "outputs": [],
   "source": [
    "from sklearn.model_selection import train_test_split\n",
    "X_train, X_test, y_train, y_test = train_test_split(X,y, test_size=0.2)"
   ]
  },
  {
   "cell_type": "code",
   "execution_count": 201,
   "id": "7d0ffec8",
   "metadata": {},
   "outputs": [
    {
     "name": "stdout",
     "output_type": "stream",
     "text": [
      "alpha: 0.01, l1_ratio: 0.2, score: 0.7479157887463523\n",
      "alpha: 0.01, l1_ratio: 0.5, score: 0.7486280797870868\n",
      "alpha: 0.01, l1_ratio: 0.8, score: 0.7489854268745896\n",
      "alpha: 0.1, l1_ratio: 0.2, score: 0.6828624241724609\n",
      "alpha: 0.1, l1_ratio: 0.5, score: 0.7158740951701986\n",
      "alpha: 0.1, l1_ratio: 0.8, score: 0.7421916293056198\n",
      "alpha: 1, l1_ratio: 0.2, score: 0.31279478391705473\n",
      "alpha: 1, l1_ratio: 0.5, score: 0.3909664737533748\n",
      "alpha: 1, l1_ratio: 0.8, score: 0.5601068847364707\n"
     ]
    }
   ],
   "source": [
    "from sklearn.linear_model import ElasticNet\n",
    "from sklearn.model_selection import cross_val_score\n",
    "#model : elastic search with alpha and beta\n",
    "\n",
    "alphas=[0.01, 0.1, 1]\n",
    "lambdas=[0.2, 0.5, 0.8]\n",
    "\n",
    "import itertools\n",
    "combinations=itertools.product(alphas, lambdas)\n",
    "\n",
    "for alpha, l1_ratio in combinations:\n",
    "    model=ElasticNet(alpha=alpha, l1_ratio=l1_ratio)\n",
    "    score=cross_val_score(model, X_train, y_train, cv=5).mean()\n",
    "    print(f'alpha: {alpha}, l1_ratio: {l1_ratio}, score: {score}')"
   ]
  },
  {
   "cell_type": "markdown",
   "id": "ed90427a",
   "metadata": {},
   "source": [
    "There is a more straightforward way to performing GridSearch while performing CV scoring: <b>Grid Search CV</b>"
   ]
  },
  {
   "cell_type": "code",
   "execution_count": 204,
   "id": "64f4403c",
   "metadata": {},
   "outputs": [
    {
     "data": {
      "text/plain": [
       "GridSearchCV(cv=5, error_score=nan,\n",
       "             estimator=ElasticNet(alpha=1.0, copy_X=True, fit_intercept=True,\n",
       "                                  l1_ratio=0.5, max_iter=1000, normalize=False,\n",
       "                                  positive=False, precompute=False,\n",
       "                                  random_state=None, selection='cyclic',\n",
       "                                  tol=0.0001, warm_start=False),\n",
       "             iid='deprecated', n_jobs=-1,\n",
       "             param_grid={'alpha': [0.01, 0.1, 1], 'l1_ratio': [0.2, 0.5, 0.8]},\n",
       "             pre_dispatch='2*n_jobs', refit=True, return_train_score=False,\n",
       "             scoring='r2', verbose=0)"
      ]
     },
     "execution_count": 204,
     "metadata": {},
     "output_type": "execute_result"
    }
   ],
   "source": [
    "from sklearn.model_selection import GridSearchCV\n",
    "from sklearn.linear_model import ElasticNet\n",
    "\n",
    "X_train, X_test, y_train, y_test = train_test_split(X,y,test_size=0.2)\n",
    "grid={'alpha':[0.01, 0.1, 1],\n",
    "     'l1_ratio':[0.2, 0.5, 0.8]}\n",
    "\n",
    "model=ElasticNet()\n",
    "search=GridSearchCV(model, grid, scoring='r2', cv=5, n_jobs=-1)\n",
    "\n",
    "search.fit(X_train, y_train)"
   ]
  },
  {
   "cell_type": "code",
   "execution_count": 205,
   "id": "0d1335fa",
   "metadata": {},
   "outputs": [
    {
     "data": {
      "text/plain": [
       "ElasticNet(alpha=0.01, copy_X=True, fit_intercept=True, l1_ratio=0.8,\n",
       "           max_iter=1000, normalize=False, positive=False, precompute=False,\n",
       "           random_state=None, selection='cyclic', tol=0.0001, warm_start=False)"
      ]
     },
     "execution_count": 205,
     "metadata": {},
     "output_type": "execute_result"
    }
   ],
   "source": [
    "search.best_estimator_"
   ]
  },
  {
   "cell_type": "markdown",
   "id": "bda68ee8",
   "metadata": {},
   "source": [
    "Besides the grid search CV method, there is a more systematic one and more automated one, called Randomized Search CV.   \n",
    "Instead of fixing the grid, we fix the length of the interval and we call on it uniform laws to test for hyper parameters values.  "
   ]
  },
  {
   "cell_type": "markdown",
   "id": "0ea587f8",
   "metadata": {},
   "source": [
    "## Fine tuning using Randomized Search CV"
   ]
  },
  {
   "cell_type": "code",
   "execution_count": 212,
   "id": "f003ce9a",
   "metadata": {},
   "outputs": [],
   "source": [
    "from sklearn.linear_model import ElasticNet\n",
    "from sklearn.model_selection import RandomizedSearchCV\n",
    "from scipy import stats\n",
    "\n",
    "uniform=stats.uniform(0,1)\n",
    "grid={'alpha':uniform,'l1_ratio': uniform}\n",
    "model=ElasticNet()\n",
    "search=RandomizedSearchCV(model, grid, scoring='r2', cv=5, n_iter = 1000, n_jobs=-1)\n",
    "\n",
    "from sklearn.model_selection import train_test_split\n",
    "X_train, X_test, y_train, y_test = train_test_split(X,y,test_size=0.2)\n",
    "\n",
    "search.fit(X_train, y_train)\n",
    "model=search.best_estimator_"
   ]
  },
  {
   "cell_type": "code",
   "execution_count": 214,
   "id": "0fb56ff3",
   "metadata": {},
   "outputs": [
    {
     "data": {
      "text/plain": [
       "{'alpha': 0.00028780495685298835,\n",
       " 'l1_ratio': 0.8031527771845399,\n",
       " 'fit_intercept': True,\n",
       " 'normalize': False,\n",
       " 'precompute': False,\n",
       " 'max_iter': 1000,\n",
       " 'copy_X': True,\n",
       " 'tol': 0.0001,\n",
       " 'warm_start': False,\n",
       " 'positive': False,\n",
       " 'random_state': None,\n",
       " 'selection': 'cyclic',\n",
       " 'n_iter_': 5,\n",
       " 'coef_': array([  264.93997963,   306.08517829,   426.00417583, 23610.92081122]),\n",
       " 'dual_gap_': 148874.64698028564,\n",
       " 'intercept_': -11915.5630123048}"
      ]
     },
     "execution_count": 214,
     "metadata": {},
     "output_type": "execute_result"
    }
   ],
   "source": [
    "model.__dict__"
   ]
  },
  {
   "cell_type": "markdown",
   "id": "b675f002",
   "metadata": {},
   "source": [
    "# Support Vector Machines"
   ]
  },
  {
   "cell_type": "markdown",
   "id": "359603d1",
   "metadata": {},
   "source": [
    "# Ensemble Methods"
   ]
  },
  {
   "cell_type": "markdown",
   "id": "0ee030e4",
   "metadata": {},
   "source": [
    "## Decision Trees Classifier"
   ]
  },
  {
   "cell_type": "markdown",
   "id": "1ed424a2",
   "metadata": {},
   "source": [
    "A set of supervised learning algos that are based on binary decision trees.  \n",
    "These are not linear but are suited for classification and regression tasks"
   ]
  },
  {
   "cell_type": "code",
   "execution_count": 219,
   "id": "15077fae",
   "metadata": {},
   "outputs": [
    {
     "data": {
      "text/html": [
       "<div>\n",
       "<style scoped>\n",
       "    .dataframe tbody tr th:only-of-type {\n",
       "        vertical-align: middle;\n",
       "    }\n",
       "\n",
       "    .dataframe tbody tr th {\n",
       "        vertical-align: top;\n",
       "    }\n",
       "\n",
       "    .dataframe thead th {\n",
       "        text-align: right;\n",
       "    }\n",
       "</style>\n",
       "<table border=\"1\" class=\"dataframe\">\n",
       "  <thead>\n",
       "    <tr style=\"text-align: right;\">\n",
       "      <th></th>\n",
       "      <th>petal length (cm)</th>\n",
       "      <th>petal width (cm)</th>\n",
       "      <th>target</th>\n",
       "    </tr>\n",
       "  </thead>\n",
       "  <tbody>\n",
       "    <tr>\n",
       "      <th>0</th>\n",
       "      <td>1.4</td>\n",
       "      <td>0.2</td>\n",
       "      <td>0.0</td>\n",
       "    </tr>\n",
       "    <tr>\n",
       "      <th>1</th>\n",
       "      <td>1.4</td>\n",
       "      <td>0.2</td>\n",
       "      <td>0.0</td>\n",
       "    </tr>\n",
       "    <tr>\n",
       "      <th>2</th>\n",
       "      <td>1.3</td>\n",
       "      <td>0.2</td>\n",
       "      <td>0.0</td>\n",
       "    </tr>\n",
       "    <tr>\n",
       "      <th>3</th>\n",
       "      <td>1.5</td>\n",
       "      <td>0.2</td>\n",
       "      <td>0.0</td>\n",
       "    </tr>\n",
       "    <tr>\n",
       "      <th>4</th>\n",
       "      <td>1.4</td>\n",
       "      <td>0.2</td>\n",
       "      <td>0.0</td>\n",
       "    </tr>\n",
       "    <tr>\n",
       "      <th>...</th>\n",
       "      <td>...</td>\n",
       "      <td>...</td>\n",
       "      <td>...</td>\n",
       "    </tr>\n",
       "    <tr>\n",
       "      <th>145</th>\n",
       "      <td>5.2</td>\n",
       "      <td>2.3</td>\n",
       "      <td>2.0</td>\n",
       "    </tr>\n",
       "    <tr>\n",
       "      <th>146</th>\n",
       "      <td>5.0</td>\n",
       "      <td>1.9</td>\n",
       "      <td>2.0</td>\n",
       "    </tr>\n",
       "    <tr>\n",
       "      <th>147</th>\n",
       "      <td>5.2</td>\n",
       "      <td>2.0</td>\n",
       "      <td>2.0</td>\n",
       "    </tr>\n",
       "    <tr>\n",
       "      <th>148</th>\n",
       "      <td>5.4</td>\n",
       "      <td>2.3</td>\n",
       "      <td>2.0</td>\n",
       "    </tr>\n",
       "    <tr>\n",
       "      <th>149</th>\n",
       "      <td>5.1</td>\n",
       "      <td>1.8</td>\n",
       "      <td>2.0</td>\n",
       "    </tr>\n",
       "  </tbody>\n",
       "</table>\n",
       "<p>150 rows × 3 columns</p>\n",
       "</div>"
      ],
      "text/plain": [
       "     petal length (cm)  petal width (cm)  target\n",
       "0                  1.4               0.2     0.0\n",
       "1                  1.4               0.2     0.0\n",
       "2                  1.3               0.2     0.0\n",
       "3                  1.5               0.2     0.0\n",
       "4                  1.4               0.2     0.0\n",
       "..                 ...               ...     ...\n",
       "145                5.2               2.3     2.0\n",
       "146                5.0               1.9     2.0\n",
       "147                5.2               2.0     2.0\n",
       "148                5.4               2.3     2.0\n",
       "149                5.1               1.8     2.0\n",
       "\n",
       "[150 rows x 3 columns]"
      ]
     },
     "execution_count": 219,
     "metadata": {},
     "output_type": "execute_result"
    }
   ],
   "source": [
    "from sklearn.datasets import load_iris\n",
    "\n",
    "iris = load_iris()\n",
    "data = pd.DataFrame(data= np.c_[iris['data'], iris['target']],\n",
    "                     columns= iris['feature_names'] + ['target'])\n",
    "data.drop(columns=['sepal length (cm)', 'sepal width (cm)'], inplace=True)\n",
    "data"
   ]
  },
  {
   "cell_type": "code",
   "execution_count": 222,
   "id": "a6422ccf",
   "metadata": {},
   "outputs": [
    {
     "data": {
      "text/html": [
       "<div>\n",
       "<style scoped>\n",
       "    .dataframe tbody tr th:only-of-type {\n",
       "        vertical-align: middle;\n",
       "    }\n",
       "\n",
       "    .dataframe tbody tr th {\n",
       "        vertical-align: top;\n",
       "    }\n",
       "\n",
       "    .dataframe thead th {\n",
       "        text-align: right;\n",
       "    }\n",
       "</style>\n",
       "<table border=\"1\" class=\"dataframe\">\n",
       "  <thead>\n",
       "    <tr style=\"text-align: right;\">\n",
       "      <th></th>\n",
       "      <th>petal length (cm)</th>\n",
       "      <th>petal width (cm)</th>\n",
       "    </tr>\n",
       "  </thead>\n",
       "  <tbody>\n",
       "    <tr>\n",
       "      <th>0</th>\n",
       "      <td>1.4</td>\n",
       "      <td>0.2</td>\n",
       "    </tr>\n",
       "    <tr>\n",
       "      <th>1</th>\n",
       "      <td>1.4</td>\n",
       "      <td>0.2</td>\n",
       "    </tr>\n",
       "    <tr>\n",
       "      <th>2</th>\n",
       "      <td>1.3</td>\n",
       "      <td>0.2</td>\n",
       "    </tr>\n",
       "    <tr>\n",
       "      <th>3</th>\n",
       "      <td>1.5</td>\n",
       "      <td>0.2</td>\n",
       "    </tr>\n",
       "    <tr>\n",
       "      <th>4</th>\n",
       "      <td>1.4</td>\n",
       "      <td>0.2</td>\n",
       "    </tr>\n",
       "    <tr>\n",
       "      <th>...</th>\n",
       "      <td>...</td>\n",
       "      <td>...</td>\n",
       "    </tr>\n",
       "    <tr>\n",
       "      <th>145</th>\n",
       "      <td>5.2</td>\n",
       "      <td>2.3</td>\n",
       "    </tr>\n",
       "    <tr>\n",
       "      <th>146</th>\n",
       "      <td>5.0</td>\n",
       "      <td>1.9</td>\n",
       "    </tr>\n",
       "    <tr>\n",
       "      <th>147</th>\n",
       "      <td>5.2</td>\n",
       "      <td>2.0</td>\n",
       "    </tr>\n",
       "    <tr>\n",
       "      <th>148</th>\n",
       "      <td>5.4</td>\n",
       "      <td>2.3</td>\n",
       "    </tr>\n",
       "    <tr>\n",
       "      <th>149</th>\n",
       "      <td>5.1</td>\n",
       "      <td>1.8</td>\n",
       "    </tr>\n",
       "  </tbody>\n",
       "</table>\n",
       "<p>150 rows × 2 columns</p>\n",
       "</div>"
      ],
      "text/plain": [
       "     petal length (cm)  petal width (cm)\n",
       "0                  1.4               0.2\n",
       "1                  1.4               0.2\n",
       "2                  1.3               0.2\n",
       "3                  1.5               0.2\n",
       "4                  1.4               0.2\n",
       "..                 ...               ...\n",
       "145                5.2               2.3\n",
       "146                5.0               1.9\n",
       "147                5.2               2.0\n",
       "148                5.4               2.3\n",
       "149                5.1               1.8\n",
       "\n",
       "[150 rows x 2 columns]"
      ]
     },
     "execution_count": 222,
     "metadata": {},
     "output_type": "execute_result"
    }
   ],
   "source": [
    "X=data.drop(columns=['target'])\n",
    "y=data['target']\n",
    "X"
   ]
  },
  {
   "cell_type": "code",
   "execution_count": 225,
   "id": "2e73d512",
   "metadata": {},
   "outputs": [
    {
     "data": {
      "text/plain": [
       "DecisionTreeClassifier(ccp_alpha=0.0, class_weight=None, criterion='gini',\n",
       "                       max_depth=2, max_features=None, max_leaf_nodes=None,\n",
       "                       min_impurity_decrease=0.0, min_impurity_split=None,\n",
       "                       min_samples_leaf=1, min_samples_split=2,\n",
       "                       min_weight_fraction_leaf=0.0, presort='deprecated',\n",
       "                       random_state=None, splitter='best')"
      ]
     },
     "execution_count": 225,
     "metadata": {},
     "output_type": "execute_result"
    }
   ],
   "source": [
    "from sklearn.tree import DecisionTreeClassifier\n",
    "tree=DecisionTreeClassifier(max_depth=2)\n",
    "tree.fit(X,y)"
   ]
  },
  {
   "cell_type": "code",
   "execution_count": 237,
   "id": "918869a1",
   "metadata": {},
   "outputs": [
    {
     "name": "stdout",
     "output_type": "stream",
     "text": [
      "[1.]\n",
      "[[0.         0.90740741 0.09259259]]\n"
     ]
    }
   ],
   "source": [
    "print(tree.predict([[4,1]]))\n",
    "print(tree.predict_proba([[4,1]]))"
   ]
  },
  {
   "cell_type": "markdown",
   "id": "951ee248",
   "metadata": {},
   "source": [
    "The idea is to separate the data in an optimal way according to the dimensions.  \n",
    "At each step of the algo, we will try to find an optimal threshold such as the Gini index is optimized.  \n",
    "The Gini index is $1 - \\sum(p_i^{2})$ where $p_{i}$ is the ratio of each class in the remaining subset.  \n",
    "The lower the Gini index is, the better."
   ]
  },
  {
   "cell_type": "markdown",
   "id": "e1132a8a",
   "metadata": {},
   "source": [
    "## Decision Trees Regressor"
   ]
  },
  {
   "cell_type": "markdown",
   "id": "528ec164",
   "metadata": {},
   "source": [
    "The idea is the same except that we predict a continuous variable and not a class"
   ]
  },
  {
   "cell_type": "markdown",
   "id": "dc176a17",
   "metadata": {},
   "source": [
    "## Pros and cons of decision trees"
   ]
  },
  {
   "cell_type": "markdown",
   "id": "ff70a05c",
   "metadata": {},
   "source": [
    "<b>Pros:</b> \n",
    "* easy to implement, intuitive  \n",
    "* no scaling is necessary  \n",
    "* allows for feature selection  \n",
    "* resistant to outliers  \n",
    "\n",
    "<b>Cons:</b>  \n",
    "* high variance\n",
    "* long training time if max depth grows: $O(n*m*depth)$\n",
    "* splits data orthogonally according features so sometimes makes sense to perform PCA before"
   ]
  },
  {
   "cell_type": "markdown",
   "id": "93132d69",
   "metadata": {},
   "source": [
    "# Bagging"
   ]
  },
  {
   "cell_type": "markdown",
   "id": "437fd318",
   "metadata": {},
   "source": [
    "Bagging uses parallel decision trees  \n",
    "This is a method that efficient to reduce variance. \n",
    "For each bagged tree, the dataset is regenerated with replacement. \n",
    "When we have a new X to predict, we pass the X through the generated bagged trees and we compute the output for each bagged tree. \n",
    "If the task is a classification task, we decide final output by voting. \n",
    "If the task is a regression task, we decide the final result by average. "
   ]
  },
  {
   "cell_type": "code",
   "execution_count": 240,
   "id": "a952686a",
   "metadata": {},
   "outputs": [],
   "source": [
    "from sklearn.ensemble import RandomForestClassifier, RandomForestRegressor\n",
    "cls=RandomForestClassifier(max_depth=100, n_estimators=100)\n",
    "reg=RandomForestRegressor(max_depth=100, n_estimators=100)"
   ]
  },
  {
   "cell_type": "markdown",
   "id": "60d1874e",
   "metadata": {},
   "source": [
    "## Pros and Cons"
   ]
  },
  {
   "cell_type": "markdown",
   "id": "b078d9f9",
   "metadata": {},
   "source": [
    "<b>Pros</b>\n",
    "* reduces variance compared to a single Decision Tree\n",
    "* bagging can involve any model, see subsection below\n",
    "\n",
    "<b>Cons</b>\n",
    "* time consuming\n",
    "* disregards performance of sub-models"
   ]
  },
  {
   "cell_type": "markdown",
   "id": "36459883",
   "metadata": {},
   "source": [
    "## Bagging other models and evaluating oob: out-of-bag score (test sample)"
   ]
  },
  {
   "cell_type": "code",
   "execution_count": 247,
   "id": "e691f995",
   "metadata": {},
   "outputs": [
    {
     "data": {
      "text/plain": [
       "0.9229692169208474"
      ]
     },
     "execution_count": 247,
     "metadata": {},
     "output_type": "execute_result"
    }
   ],
   "source": [
    "from sklearn.ensemble import BaggingRegressor\n",
    "from sklearn.linear_model import LinearRegression\n",
    "\n",
    "model=LinearRegression()\n",
    "reg=BaggingRegressor(model, n_estimators=100, oob_score=True)\n",
    "\n",
    "reg.fit(X,y).oob_score_"
   ]
  },
  {
   "cell_type": "markdown",
   "id": "60f2bf5c",
   "metadata": {},
   "source": [
    "# Boosting"
   ]
  },
  {
   "cell_type": "markdown",
   "id": "0189f66b",
   "metadata": {},
   "source": [
    "Boosting a method used to train weak learners so that they learn from their predecessors  \n",
    "The objective is to reduce bias. \n",
    "Boosting is sequential learning, bagging is parallel learning. "
   ]
  },
  {
   "cell_type": "markdown",
   "id": "fbb8533e",
   "metadata": {},
   "source": [
    "## Adaptative Boosting"
   ]
  },
  {
   "cell_type": "markdown",
   "id": "3fab8553",
   "metadata": {},
   "source": [
    "This is an algo that follows these steps:  \n",
    "* at step 0, all obs have the same weight. \n",
    "* we train a weak learner, typically a decision tree. \n",
    "* for each observation i, if predicted correctly, we decrease the weight $w_i$ and if not we increase $w_i$\n",
    "* we train a weak learner, where high weighted obs are given more priority\n",
    "* we repeat until obs are perfectly predicted or a preset number of weak learners are trained"
   ]
  },
  {
   "cell_type": "code",
   "execution_count": 255,
   "id": "9830d625",
   "metadata": {},
   "outputs": [
    {
     "data": {
      "text/plain": [
       "{'fit_time': array([0.02379107, 0.01382208, 0.00335193, 0.01187825, 0.00949216]),\n",
       " 'score_time': array([0.00301218, 0.00217581, 0.00093102, 0.00154972, 0.00129795]),\n",
       " 'test_score': array([0.96666667, 0.96666667, 0.9       , 0.93333333, 1.        ])}"
      ]
     },
     "execution_count": 255,
     "metadata": {},
     "output_type": "execute_result"
    }
   ],
   "source": [
    "from sklearn.ensemble import AdaBoostRegressor, AdaBoostClassifier\n",
    "from sklearn.tree import DecisionTreeRegressor, DecisionTreeClassifier\n",
    "weak_learner=DecisionTreeClassifier(max_depth=3)\n",
    "ada=AdaBoostClassifier(weak_learner, n_estimators=10)\n",
    "cv=cross_validate(ada,X,y,cv=5)\n",
    "cv\n"
   ]
  },
  {
   "cell_type": "markdown",
   "id": "c413ceae",
   "metadata": {},
   "source": [
    "## Gradient Boosting and extreme gradient boosting"
   ]
  },
  {
   "cell_type": "markdown",
   "id": "56bfa016",
   "metadata": {},
   "source": [
    "We start with average as estimator and we compute the loss or residuals.  \n",
    "We compute the derivate and depending on its direction, we move to the opposite : contribution * learning_rate  \n",
    "We repeat"
   ]
  },
  {
   "cell_type": "markdown",
   "id": "c971691f",
   "metadata": {},
   "source": [
    "# Unsupervised Learning"
   ]
  },
  {
   "cell_type": "markdown",
   "id": "23052190",
   "metadata": {},
   "source": [
    "## PCA"
   ]
  },
  {
   "cell_type": "markdown",
   "id": "0ca05372",
   "metadata": {},
   "source": [
    "## K-means: galaxies and blackholes"
   ]
  }
 ],
 "metadata": {
  "kernelspec": {
   "display_name": "Python 3 (ipykernel)",
   "language": "python",
   "name": "python3"
  },
  "language_info": {
   "codemirror_mode": {
    "name": "ipython",
    "version": 3
   },
   "file_extension": ".py",
   "mimetype": "text/x-python",
   "name": "python",
   "nbconvert_exporter": "python",
   "pygments_lexer": "ipython3",
   "version": "3.8.13"
  },
  "toc": {
   "base_numbering": 1,
   "nav_menu": {},
   "number_sections": true,
   "sideBar": true,
   "skip_h1_title": false,
   "title_cell": "Table of Contents",
   "title_sidebar": "Contents",
   "toc_cell": false,
   "toc_position": {},
   "toc_section_display": true,
   "toc_window_display": false
  }
 },
 "nbformat": 4,
 "nbformat_minor": 5
}

{
 "cells": [
  {
   "cell_type": "code",
   "execution_count": 17,
   "id": "d69b1f02-27e0-4790-8b36-ff3969bb6fd5",
   "metadata": {},
   "outputs": [],
   "source": [
    "import pandas as pd\n",
    "import re\n",
    "import numpy as np\n",
    "import requests"
   ]
  },
  {
   "cell_type": "code",
   "execution_count": 23,
   "id": "af451942-b139-4eb6-8253-f14fdbfbb8bd",
   "metadata": {},
   "outputs": [],
   "source": [
    "%load_ext autoreload\n",
    "%autoreload 2\n"
   ]
  },
  {
   "cell_type": "code",
   "execution_count": 24,
   "id": "9e060bf3-98d1-4f3d-a423-7f2540562404",
   "metadata": {},
   "outputs": [],
   "source": [
    "tracks=pd.read_csv('data/spotify_2017.csv')"
   ]
  },
  {
   "cell_type": "code",
   "execution_count": 25,
   "id": "964a7f2e-fce4-471e-9b00-c90fd09943ae",
   "metadata": {},
   "outputs": [
    {
     "data": {
      "text/html": [
       "<div>\n",
       "<style scoped>\n",
       "    .dataframe tbody tr th:only-of-type {\n",
       "        vertical-align: middle;\n",
       "    }\n",
       "\n",
       "    .dataframe tbody tr th {\n",
       "        vertical-align: top;\n",
       "    }\n",
       "\n",
       "    .dataframe thead th {\n",
       "        text-align: right;\n",
       "    }\n",
       "</style>\n",
       "<table border=\"1\" class=\"dataframe\">\n",
       "  <thead>\n",
       "    <tr style=\"text-align: right;\">\n",
       "      <th></th>\n",
       "      <th>id</th>\n",
       "      <th>name</th>\n",
       "      <th>artists</th>\n",
       "      <th>danceability</th>\n",
       "      <th>energy</th>\n",
       "      <th>key</th>\n",
       "      <th>loudness</th>\n",
       "      <th>mode</th>\n",
       "      <th>speechiness</th>\n",
       "      <th>acousticness</th>\n",
       "      <th>instrumentalness</th>\n",
       "      <th>liveness</th>\n",
       "      <th>valence</th>\n",
       "      <th>tempo</th>\n",
       "      <th>duration_ms</th>\n",
       "      <th>time_signature</th>\n",
       "    </tr>\n",
       "  </thead>\n",
       "  <tbody>\n",
       "    <tr>\n",
       "      <th>0</th>\n",
       "      <td>7qiZfU4dY1lWllzX7mPBI</td>\n",
       "      <td>Shape of You</td>\n",
       "      <td>Ed Sheeran</td>\n",
       "      <td>0.825</td>\n",
       "      <td>0.652</td>\n",
       "      <td>1.0</td>\n",
       "      <td>-3.183</td>\n",
       "      <td>0.0</td>\n",
       "      <td>0.0802</td>\n",
       "      <td>0.581</td>\n",
       "      <td>0.0</td>\n",
       "      <td>0.0931</td>\n",
       "      <td>0.931</td>\n",
       "      <td>95.977</td>\n",
       "      <td>233713.0</td>\n",
       "      <td>4.0</td>\n",
       "    </tr>\n",
       "    <tr>\n",
       "      <th>1</th>\n",
       "      <td>5CtI0qwDJkDQGwXD1H1cL</td>\n",
       "      <td>Despacito - Remix</td>\n",
       "      <td>Luis Fonsi</td>\n",
       "      <td>0.694</td>\n",
       "      <td>0.815</td>\n",
       "      <td>2.0</td>\n",
       "      <td>-4.328</td>\n",
       "      <td>1.0</td>\n",
       "      <td>0.1200</td>\n",
       "      <td>0.229</td>\n",
       "      <td>0.0</td>\n",
       "      <td>0.0924</td>\n",
       "      <td>0.813</td>\n",
       "      <td>88.931</td>\n",
       "      <td>228827.0</td>\n",
       "      <td>4.0</td>\n",
       "    </tr>\n",
       "    <tr>\n",
       "      <th>2</th>\n",
       "      <td>4aWmUDTfIPGksMNLV2rQP</td>\n",
       "      <td>Despacito (Featuring Daddy Yankee)</td>\n",
       "      <td>Luis Fonsi</td>\n",
       "      <td>0.660</td>\n",
       "      <td>0.786</td>\n",
       "      <td>2.0</td>\n",
       "      <td>-4.757</td>\n",
       "      <td>1.0</td>\n",
       "      <td>0.1700</td>\n",
       "      <td>0.209</td>\n",
       "      <td>0.0</td>\n",
       "      <td>0.1120</td>\n",
       "      <td>0.846</td>\n",
       "      <td>177.833</td>\n",
       "      <td>228200.0</td>\n",
       "      <td>4.0</td>\n",
       "    </tr>\n",
       "  </tbody>\n",
       "</table>\n",
       "</div>"
      ],
      "text/plain": [
       "                      id                                name     artists  \\\n",
       "0  7qiZfU4dY1lWllzX7mPBI                        Shape of You  Ed Sheeran   \n",
       "1  5CtI0qwDJkDQGwXD1H1cL                   Despacito - Remix  Luis Fonsi   \n",
       "2  4aWmUDTfIPGksMNLV2rQP  Despacito (Featuring Daddy Yankee)  Luis Fonsi   \n",
       "\n",
       "   danceability  energy  key  loudness  mode  speechiness  acousticness  \\\n",
       "0         0.825   0.652  1.0    -3.183   0.0       0.0802         0.581   \n",
       "1         0.694   0.815  2.0    -4.328   1.0       0.1200         0.229   \n",
       "2         0.660   0.786  2.0    -4.757   1.0       0.1700         0.209   \n",
       "\n",
       "   instrumentalness  liveness  valence    tempo  duration_ms  time_signature  \n",
       "0               0.0    0.0931    0.931   95.977     233713.0             4.0  \n",
       "1               0.0    0.0924    0.813   88.931     228827.0             4.0  \n",
       "2               0.0    0.1120    0.846  177.833     228200.0             4.0  "
      ]
     },
     "execution_count": 25,
     "metadata": {},
     "output_type": "execute_result"
    }
   ],
   "source": [
    "tracks.head(3)"
   ]
  },
  {
   "cell_type": "code",
   "execution_count": 26,
   "id": "2a4adfde-0c0c-4f2c-a6e4-d338a6a7f40c",
   "metadata": {},
   "outputs": [],
   "source": [
    "tracks_sub=tracks[['name','artists']]"
   ]
  },
  {
   "cell_type": "code",
   "execution_count": 28,
   "id": "a3b84744-9e3f-4164-95f3-acd4f9f9fda0",
   "metadata": {},
   "outputs": [],
   "source": [
    "from music import fetch_lyrics"
   ]
  },
  {
   "cell_type": "code",
   "execution_count": 29,
   "id": "38b399c5-280c-4033-87cc-910f3774a75a",
   "metadata": {},
   "outputs": [
    {
     "data": {
      "text/plain": [
       "\"Yesterday all my troubles seemed so far away.\\nNow it looks as though they're here to stay.\\nOh, I believe in yesterday.\\n\\nSuddenly, I'm not half the man I used to be.\\nThere's a shadow hanging over me.\\nOh, yesterday came suddenly.\\n\\nWhy she had to go?\\nI don't know, she wouldn't say.\\nI said something wrong.\\nNow I long for yesterday.\\n\\nYesterday love was such an easy game to play.\\nNow I need a place to hide away.\\nOh, I believe in yesterday.\\n\\nWhy she had to go?\\nI don't know, she wouldn't say.\\nI said something wrong.\\nNow I long for yesterday.\\n\\nYesterday love was such an easy game to play.\\nNow I need a place to hide away.\\nOh, I believe in yesterday.\\n\\nMm mm mm mm mm mm mm.\""
      ]
     },
     "execution_count": 29,
     "metadata": {},
     "output_type": "execute_result"
    }
   ],
   "source": [
    "fetch_lyrics('The Beatles', 'Yesterday')"
   ]
  },
  {
   "cell_type": "code",
   "execution_count": 30,
   "id": "b7937473-5928-4c7d-ae1f-6170d8790f6a",
   "metadata": {},
   "outputs": [
    {
     "data": {
      "text/plain": [
       "''"
      ]
     },
     "execution_count": 30,
     "metadata": {},
     "output_type": "execute_result"
    }
   ],
   "source": [
    "fetch_lyrics('The Beatles', 'Today')"
   ]
  },
  {
   "cell_type": "code",
   "execution_count": 32,
   "id": "34b8a00e-f096-40b1-9618-e19318623713",
   "metadata": {},
   "outputs": [],
   "source": [
    "tracks[\"lyrics\"]=''"
   ]
  },
  {
   "cell_type": "code",
   "execution_count": 34,
   "id": "3d0bb21c-bacc-4067-ba4f-a05364e1da53",
   "metadata": {},
   "outputs": [
    {
     "name": "stdout",
     "output_type": "stream",
     "text": [
      "fetching Ed Sheeran - Shape of You\n",
      "fetching Luis Fonsi - Despacito - Remix\n",
      "fetching Luis Fonsi - Despacito (Featuring Daddy Yankee)\n",
      "CPU times: user 92.4 ms, sys: 11.1 ms, total: 103 ms\n",
      "Wall time: 1.86 s\n"
     ]
    }
   ],
   "source": [
    "%%time\n",
    "for (index, row) in tracks.head(3).iterrows():\n",
    "    print(f\"fetching {row['artists']} - {row['name']}\")\n",
    "    tracks.loc[index,'lyrics'] = fetch_lyrics(row['artists'], row['name'])"
   ]
  },
  {
   "cell_type": "code",
   "execution_count": 36,
   "id": "3b411139-5615-4f8c-9e6a-083e47cf3d45",
   "metadata": {},
   "outputs": [
    {
     "name": "stdout",
     "output_type": "stream",
     "text": [
      "The club isn't the best place to find a lover\n",
      "So the bar is where I go (mmmm)\n",
      "Me and my friends at t\n"
     ]
    }
   ],
   "source": [
    "print(tracks.loc[0, 'lyrics'][:100])"
   ]
  },
  {
   "cell_type": "markdown",
   "id": "b17055f0-5575-40d6-9f5f-99740dd2b8a3",
   "metadata": {},
   "source": [
    "## Google Big Query"
   ]
  },
  {
   "cell_type": "code",
   "execution_count": 42,
   "id": "4fb729e8-60a2-49d2-bf07-febabba55e97",
   "metadata": {},
   "outputs": [],
   "source": [
    "import pandas_gbq"
   ]
  },
  {
   "cell_type": "code",
   "execution_count": 38,
   "id": "7ddfef0f-80e3-4404-8ba5-435207ad8162",
   "metadata": {},
   "outputs": [],
   "source": [
    "project_id=\"povertymapper\""
   ]
  },
  {
   "cell_type": "code",
   "execution_count": 39,
   "id": "9e3435a4-814f-49a2-90bf-c86c59961d18",
   "metadata": {},
   "outputs": [],
   "source": [
    "sql = \"\"\"\n",
    "SELECT faa_identifier, name, longitude, latitude, airport_type, service_city, country\n",
    "FROM `bigquery-public-data.faa.us_airports`\n",
    "WHERE airport_use = 'Public'\n",
    "\"\"\""
   ]
  },
  {
   "cell_type": "code",
   "execution_count": 43,
   "id": "021b8fd8-e875-4d93-8366-afb66a472edb",
   "metadata": {},
   "outputs": [
    {
     "name": "stderr",
     "output_type": "stream",
     "text": [
      "Downloading: 100%|██████████████████████| 5368/5368 [00:01<00:00, 4683.98rows/s]\n"
     ]
    }
   ],
   "source": [
    "airport_df=pandas_gbq.read_gbq(sql, project_id=project_id)"
   ]
  },
  {
   "cell_type": "code",
   "execution_count": 44,
   "id": "6c77bb24-412d-4c14-aaeb-d91bbb871818",
   "metadata": {},
   "outputs": [
    {
     "data": {
      "text/html": [
       "<div>\n",
       "<style scoped>\n",
       "    .dataframe tbody tr th:only-of-type {\n",
       "        vertical-align: middle;\n",
       "    }\n",
       "\n",
       "    .dataframe tbody tr th {\n",
       "        vertical-align: top;\n",
       "    }\n",
       "\n",
       "    .dataframe thead th {\n",
       "        text-align: right;\n",
       "    }\n",
       "</style>\n",
       "<table border=\"1\" class=\"dataframe\">\n",
       "  <thead>\n",
       "    <tr style=\"text-align: right;\">\n",
       "      <th></th>\n",
       "      <th>faa_identifier</th>\n",
       "      <th>name</th>\n",
       "      <th>longitude</th>\n",
       "      <th>latitude</th>\n",
       "      <th>airport_type</th>\n",
       "      <th>service_city</th>\n",
       "      <th>country</th>\n",
       "    </tr>\n",
       "  </thead>\n",
       "  <tbody>\n",
       "    <tr>\n",
       "      <th>0</th>\n",
       "      <td>2A4</td>\n",
       "      <td>Vor Lake Waterlane</td>\n",
       "      <td>-151.494167</td>\n",
       "      <td>66.887445</td>\n",
       "      <td>Seaport</td>\n",
       "      <td>Bettles</td>\n",
       "      <td>United States</td>\n",
       "    </tr>\n",
       "    <tr>\n",
       "      <th>1</th>\n",
       "      <td>5C5</td>\n",
       "      <td>El Capitan Lodge</td>\n",
       "      <td>-133.253391</td>\n",
       "      <td>55.958593</td>\n",
       "      <td>Seaport</td>\n",
       "      <td>Craig</td>\n",
       "      <td>United States</td>\n",
       "    </tr>\n",
       "    <tr>\n",
       "      <th>2</th>\n",
       "      <td>3A3</td>\n",
       "      <td>Seymour Lake Spb</td>\n",
       "      <td>-149.665593</td>\n",
       "      <td>61.613463</td>\n",
       "      <td>Seaport</td>\n",
       "      <td>Wasilla</td>\n",
       "      <td>United States</td>\n",
       "    </tr>\n",
       "  </tbody>\n",
       "</table>\n",
       "</div>"
      ],
      "text/plain": [
       "  faa_identifier                name   longitude   latitude airport_type  \\\n",
       "0            2A4  Vor Lake Waterlane -151.494167  66.887445      Seaport   \n",
       "1            5C5    El Capitan Lodge -133.253391  55.958593      Seaport   \n",
       "2            3A3    Seymour Lake Spb -149.665593  61.613463      Seaport   \n",
       "\n",
       "  service_city        country  \n",
       "0      Bettles  United States  \n",
       "1        Craig  United States  \n",
       "2      Wasilla  United States  "
      ]
     },
     "execution_count": 44,
     "metadata": {},
     "output_type": "execute_result"
    }
   ],
   "source": [
    "airport_df.head(3)"
   ]
  },
  {
   "cell_type": "markdown",
   "id": "c8d8f18f-a508-4a04-a0b8-11585fcb757b",
   "metadata": {},
   "source": [
    "## Scraping"
   ]
  },
  {
   "cell_type": "code",
   "execution_count": 50,
   "id": "f1426207-d9c1-4649-b4e6-a9150d31bb3d",
   "metadata": {},
   "outputs": [],
   "source": [
    "from bs4 import BeautifulSoup"
   ]
  },
  {
   "cell_type": "code",
   "execution_count": 48,
   "id": "146df329-3661-4457-bf16-592524094a07",
   "metadata": {},
   "outputs": [],
   "source": [
    "link='https://www.imdb.com/list/ls055386972/'\n",
    "response=requests.get(link, headers={'Accept-Language':'en-US'})"
   ]
  },
  {
   "cell_type": "code",
   "execution_count": 51,
   "id": "81f4c077-4b92-422f-ac85-9d64a6c9f6d7",
   "metadata": {},
   "outputs": [],
   "source": [
    "soup = BeautifulSoup(response.content, 'html.parser')"
   ]
  },
  {
   "cell_type": "code",
   "execution_count": 61,
   "id": "f4084caa-0156-4e42-8fc4-a678d2e311a6",
   "metadata": {},
   "outputs": [],
   "source": [
    "movies=[]\n",
    "\n",
    "for movie in soup.find_all(\"div\", class_=\"lister-item-content\"):\n",
    "    title=movie.find('h3').find('a').string\n",
    "    year=movie.find(class_=\"lister-item-year\").string\n",
    "    duration=movie.find(class_=\"runtime\").string\n",
    "    movies.append({'title':title, 'year':year, 'duration':duration})\n",
    "    "
   ]
  },
  {
   "cell_type": "code",
   "execution_count": 62,
   "id": "b2d35a53-db3a-4648-a6ca-28b8d8a02385",
   "metadata": {},
   "outputs": [
    {
     "data": {
      "text/plain": [
       "[{'title': 'The Godfather', 'year': '(1972)', 'duration': '175 min'},\n",
       " {'title': \"Schindler's List\", 'year': '(1993)', 'duration': '195 min'},\n",
       " {'title': '12 Angry Men', 'year': '(1957)', 'duration': '96 min'},\n",
       " {'title': 'Life Is Beautiful', 'year': '(1997)', 'duration': '116 min'},\n",
       " {'title': 'The Good, the Bad and the Ugly',\n",
       "  'year': '(1966)',\n",
       "  'duration': '178 min'},\n",
       " {'title': 'The Shawshank Redemption',\n",
       "  'year': '(1994)',\n",
       "  'duration': '142 min'},\n",
       " {'title': 'The Pursuit of Happyness',\n",
       "  'year': '(2006)',\n",
       "  'duration': '117 min'},\n",
       " {'title': 'Seven Samurai', 'year': '(1954)', 'duration': '207 min'},\n",
       " {'title': 'The Intouchables', 'year': '(2011)', 'duration': '112 min'},\n",
       " {'title': 'Central Station', 'year': '(1998)', 'duration': '110 min'},\n",
       " {'title': 'Requiem for a Dream', 'year': '(2000)', 'duration': '102 min'},\n",
       " {'title': 'A Beautiful Mind', 'year': '(2001)', 'duration': '135 min'},\n",
       " {'title': \"Hachi: A Dog's Tale\", 'year': '(2009)', 'duration': '93 min'},\n",
       " {'title': 'Taken', 'year': '(I) (2008)', 'duration': '90 min'},\n",
       " {'title': 'My Sassy Girl', 'year': '(2001)', 'duration': '137 min'},\n",
       " {'title': 'Amores perros', 'year': '(2000)', 'duration': '154 min'},\n",
       " {'title': 'The Shining', 'year': '(1980)', 'duration': '146 min'},\n",
       " {'title': 'Apocalypto', 'year': '(2006)', 'duration': '139 min'},\n",
       " {'title': 'Gladiator', 'year': '(2000)', 'duration': '155 min'},\n",
       " {'title': 'Cast Away', 'year': '(2000)', 'duration': '143 min'},\n",
       " {'title': 'The Dark Knight', 'year': '(2008)', 'duration': '152 min'},\n",
       " {'title': 'The Pianist', 'year': '(2002)', 'duration': '150 min'},\n",
       " {'title': 'Titanic', 'year': '(1997)', 'duration': '194 min'},\n",
       " {'title': '3-Iron', 'year': '(2004)', 'duration': '88 min'},\n",
       " {'title': 'Braveheart', 'year': '(1995)', 'duration': '178 min'},\n",
       " {'title': \"It's a Wonderful Life\", 'year': '(1946)', 'duration': '130 min'},\n",
       " {'title': 'Spring, Summer, Fall, Winter... and Spring',\n",
       "  'year': '(2003)',\n",
       "  'duration': '103 min'},\n",
       " {'title': 'Alien', 'year': '(1979)', 'duration': '117 min'},\n",
       " {'title': 'Memories of Murder', 'year': '(2003)', 'duration': '132 min'},\n",
       " {'title': 'The Return', 'year': '(2003)', 'duration': '110 min'},\n",
       " {'title': 'I Saw the Devil', 'year': '(2010)', 'duration': '144 min'},\n",
       " {'title': 'Children of Heaven', 'year': '(1997)', 'duration': '89 min'},\n",
       " {'title': 'A Separation', 'year': '(2011)', 'duration': '123 min'},\n",
       " {'title': 'The Sixth Sense', 'year': '(1999)', 'duration': '107 min'},\n",
       " {'title': 'A Moment to Remember', 'year': '(2004)', 'duration': '144 min'},\n",
       " {'title': 'Departures', 'year': '(2008)', 'duration': '130 min'},\n",
       " {'title': 'The Road Home', 'year': '(1999)', 'duration': '89 min'},\n",
       " {'title': 'Saving Private Ryan', 'year': '(1998)', 'duration': '169 min'},\n",
       " {'title': 'The Bridge on the River Kwai',\n",
       "  'year': '(1957)',\n",
       "  'duration': '161 min'},\n",
       " {'title': 'Ben-Hur', 'year': '(1959)', 'duration': '212 min'},\n",
       " {'title': 'The Exorcist', 'year': '(1973)', 'duration': '122 min'},\n",
       " {'title': 'The Secret in Their Eyes',\n",
       "  'year': '(2009)',\n",
       "  'duration': '129 min'},\n",
       " {'title': 'Léon: The Professional', 'year': '(1994)', 'duration': '110 min'},\n",
       " {'title': 'The Green Mile', 'year': '(1999)', 'duration': '189 min'},\n",
       " {'title': 'Gran Torino', 'year': '(2008)', 'duration': '116 min'},\n",
       " {'title': 'Kill Bill: Vol. 1', 'year': '(2003)', 'duration': '111 min'},\n",
       " {'title': 'Jurassic Park', 'year': '(1993)', 'duration': '127 min'},\n",
       " {'title': 'Terminator 2: Judgment Day',\n",
       "  'year': '(1991)',\n",
       "  'duration': '137 min'},\n",
       " {'title': 'Back to the Future', 'year': '(1985)', 'duration': '116 min'},\n",
       " {'title': 'Finding Nemo', 'year': '(2003)', 'duration': '100 min'}]"
      ]
     },
     "execution_count": 62,
     "metadata": {},
     "output_type": "execute_result"
    }
   ],
   "source": [
    "movies"
   ]
  },
  {
   "cell_type": "markdown",
   "id": "613bcc78-acb0-4ea2-8628-59f62db5eb95",
   "metadata": {},
   "source": [
    "## From List to Dataframe"
   ]
  },
  {
   "cell_type": "code",
   "execution_count": 64,
   "id": "df07e850-b48f-40d1-9ea6-1d9f078a7256",
   "metadata": {},
   "outputs": [],
   "source": [
    "movies_df=pd.DataFrame(movies)"
   ]
  },
  {
   "cell_type": "code",
   "execution_count": 65,
   "id": "a4658d59-8f6d-4cad-ad20-e66b6c587095",
   "metadata": {},
   "outputs": [
    {
     "data": {
      "text/html": [
       "<div>\n",
       "<style scoped>\n",
       "    .dataframe tbody tr th:only-of-type {\n",
       "        vertical-align: middle;\n",
       "    }\n",
       "\n",
       "    .dataframe tbody tr th {\n",
       "        vertical-align: top;\n",
       "    }\n",
       "\n",
       "    .dataframe thead th {\n",
       "        text-align: right;\n",
       "    }\n",
       "</style>\n",
       "<table border=\"1\" class=\"dataframe\">\n",
       "  <thead>\n",
       "    <tr style=\"text-align: right;\">\n",
       "      <th></th>\n",
       "      <th>title</th>\n",
       "      <th>year</th>\n",
       "      <th>duration</th>\n",
       "    </tr>\n",
       "  </thead>\n",
       "  <tbody>\n",
       "    <tr>\n",
       "      <th>0</th>\n",
       "      <td>The Godfather</td>\n",
       "      <td>(1972)</td>\n",
       "      <td>175 min</td>\n",
       "    </tr>\n",
       "    <tr>\n",
       "      <th>1</th>\n",
       "      <td>Schindler's List</td>\n",
       "      <td>(1993)</td>\n",
       "      <td>195 min</td>\n",
       "    </tr>\n",
       "    <tr>\n",
       "      <th>2</th>\n",
       "      <td>12 Angry Men</td>\n",
       "      <td>(1957)</td>\n",
       "      <td>96 min</td>\n",
       "    </tr>\n",
       "  </tbody>\n",
       "</table>\n",
       "</div>"
      ],
      "text/plain": [
       "              title    year duration\n",
       "0     The Godfather  (1972)  175 min\n",
       "1  Schindler's List  (1993)  195 min\n",
       "2      12 Angry Men  (1957)   96 min"
      ]
     },
     "execution_count": 65,
     "metadata": {},
     "output_type": "execute_result"
    }
   ],
   "source": [
    "movies_df.head(3)"
   ]
  }
 ],
 "metadata": {
  "kernelspec": {
   "display_name": "Python 3 (ipykernel)",
   "language": "python",
   "name": "python3"
  },
  "language_info": {
   "codemirror_mode": {
    "name": "ipython",
    "version": 3
   },
   "file_extension": ".py",
   "mimetype": "text/x-python",
   "name": "python",
   "nbconvert_exporter": "python",
   "pygments_lexer": "ipython3",
   "version": "3.8.13"
  }
 },
 "nbformat": 4,
 "nbformat_minor": 5
}
